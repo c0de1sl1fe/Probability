{
 "cells": [
  {
   "cell_type": "markdown",
   "metadata": {},
   "source": [
    "| Var&$$(a, \\sigma^2)$$| $$\\gamma$$ | n | M | K | С.В. Z | С.В. W |\n",
    "| --- | --- | --- | --- | --- | --- | --- |\n",
    "| 5 (-1;16) | 0.9 | 16 | 1950 | 180 | $$Z =  \\dfrac{(n-1)S^2}{\\sigma^2} $$| $$W=\\frac{1}{4}\\sum_{i=1}^{4}U_i$$ $$Где\\ U_i\\ -\\ случайная\\ выборка\\ из\\ 4\\ значений\\ св\\ U\\, имеющей\\ распределение\\ \\chi^2(3)$$|\n",
    "\n",
    "\n"
   ]
  },
  {
   "cell_type": "code",
   "execution_count": 53,
   "metadata": {},
   "outputs": [],
   "source": [
    "import matplotlib.pyplot as plt\n",
    "import numpy as np\n",
    "import scipy.stats as sts\n",
    "import pandas as pd\n",
    "import math\n",
    "import statistics"
   ]
  },
  {
   "cell_type": "code",
   "execution_count": 54,
   "metadata": {},
   "outputs": [],
   "source": [
    "# consts\n",
    "n = 16\n",
    "a = -1\n",
    "sigma = math.sqrt(16)\n",
    "gamma = 0.9\n"
   ]
  },
  {
   "cell_type": "markdown",
   "metadata": {},
   "source": [
    "# Часть I\n",
    "\n",
    "\n",
    "\n"
   ]
  },
  {
   "cell_type": "markdown",
   "metadata": {},
   "source": [
    "## 1."
   ]
  },
  {
   "cell_type": "code",
   "execution_count": 55,
   "metadata": {},
   "outputs": [],
   "source": [
    "sample = sts.norm.rvs(loc=a, scale=sigma, size=n)"
   ]
  },
  {
   "cell_type": "markdown",
   "metadata": {},
   "source": [
    "## 1.1"
   ]
  },
  {
   "cell_type": "code",
   "execution_count": 56,
   "metadata": {},
   "outputs": [
    {
     "name": "stdout",
     "output_type": "stream",
     "text": [
      "1.6448536269514722\n"
     ]
    }
   ],
   "source": [
    "mean = sample.mean()\n",
    "t = sts.norm.ppf((gamma/2)+0.5)\n",
    "delta = t*sigma/math.sqrt(n)"
   ]
  },
  {
   "cell_type": "code",
   "execution_count": 57,
   "metadata": {},
   "outputs": [
    {
     "name": "stdout",
     "output_type": "stream",
     "text": [
      "Доверительный интервал для матожидания а при известной дисперсии sigma = 4.0 при gamma = 0.9 - (-2.436863930140928, 0.8528433237620164)\n"
     ]
    }
   ],
   "source": [
    "print(f\"Доверительный интервал для матожидания а при известной дисперсии sigma = {sigma} при gamma = {gamma} - ({mean - delta}, {mean + delta})\")"
   ]
  },
  {
   "cell_type": "code",
   "execution_count": 60,
   "metadata": {},
   "outputs": [
    {
     "data": {
      "text/plain": [
       "(-2.0590121015401004, 0.4749914951611881)"
      ]
     },
     "execution_count": 60,
     "metadata": {},
     "output_type": "execute_result"
    }
   ],
   "source": [
    "sts.norm.interval(confidence=gamma, \n",
    "                 loc=np.mean(sample), \n",
    "                 scale=sts.sem(sample)) "
   ]
  }
 ],
 "metadata": {
  "kernelspec": {
   "display_name": ".venv",
   "language": "python",
   "name": "python3"
  },
  "language_info": {
   "codemirror_mode": {
    "name": "ipython",
    "version": 3
   },
   "file_extension": ".py",
   "mimetype": "text/x-python",
   "name": "python",
   "nbconvert_exporter": "python",
   "pygments_lexer": "ipython3",
   "version": "3.10.7"
  }
 },
 "nbformat": 4,
 "nbformat_minor": 2
}
