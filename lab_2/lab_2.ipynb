{
 "cells": [
  {
   "cell_type": "markdown",
   "metadata": {},
   "source": [
    "| Var&$$(a, \\sigma^2)$$| $$\\gamma$$ | n | M | K | С.В. Z | С.В. W |\n",
    "| --- | --- | --- | --- | --- | --- | --- |\n",
    "| 5 (-1;16) | 0.9 | 16 | 1950 | 180 | $$Z =  \\dfrac{(n-1)S^2}{\\sigma^2} $$| $$W=\\frac{1}{4}\\sum_{i=1}^{4}U_i$$ $$Где\\ U_i\\ -\\ случайная\\ выборка\\ из\\ 4\\ значений\\ св\\ U\\, имеющей\\ распределение\\ \\chi^2(3)$$|\n",
    "\n",
    "\n"
   ]
  },
  {
   "cell_type": "code",
   "execution_count": 53,
   "metadata": {},
   "outputs": [],
   "source": [
    "import matplotlib.pyplot as plt\n",
    "import numpy as np\n",
    "import scipy.stats as sts\n",
    "import pandas as pd\n",
    "import math\n",
    "import statistics"
   ]
  },
  {
   "cell_type": "code",
   "execution_count": 54,
   "metadata": {},
   "outputs": [],
   "source": [
    "# consts\n",
    "n = 16\n",
    "a = -1\n",
    "sigma = math.sqrt(16)\n",
    "gamma = 0.9\n"
   ]
  },
  {
   "cell_type": "markdown",
   "metadata": {},
   "source": [
    "# Часть I\n",
    "\n",
    "\n",
    "\n"
   ]
  },
  {
   "cell_type": "markdown",
   "metadata": {},
   "source": [
    "## 1."
   ]
  },
  {
   "cell_type": "code",
   "execution_count": 55,
   "metadata": {},
   "outputs": [],
   "source": [
    "sample = sts.norm.rvs(loc=a, scale=sigma, size=n)"
   ]
  },
  {
   "cell_type": "markdown",
   "metadata": {},
   "source": [
    "## 1.1 \n",
    "Найти интервальную оценку (доверительный интервал) для математического ожидания случайной величины X, предполагая, что дисперсия случайной величины X известна"
   ]
  },
  {
   "cell_type": "code",
   "execution_count": 56,
   "metadata": {},
   "outputs": [
    {
     "name": "stdout",
     "output_type": "stream",
     "text": [
      "1.6448536269514722\n"
     ]
    }
   ],
   "source": [
    "mean = sample.mean()\n",
    "t = sts.norm.ppf((gamma/2)+0.5)\n",
    "delta = t*sigma/math.sqrt(n)"
   ]
  },
  {
   "cell_type": "code",
   "execution_count": 57,
   "metadata": {},
   "outputs": [
    {
     "name": "stdout",
     "output_type": "stream",
     "text": [
      "Доверительный интервал для матожидания а при известной дисперсии sigma = 4.0 при gamma = 0.9 - (-2.436863930140928, 0.8528433237620164)\n"
     ]
    }
   ],
   "source": [
    "print(f\"Доверительный интервал для матожидания а при известной дисперсии sigma = {sigma} при gamma = {gamma} - ({mean - delta}, {mean + delta})\")"
   ]
  },
  {
   "cell_type": "code",
   "execution_count": 69,
   "metadata": {},
   "outputs": [
    {
     "name": "stderr",
     "output_type": "stream",
     "text": [
      "C:\\Users\\every\\AppData\\Local\\Temp\\ipykernel_19344\\4021908056.py:1: DeprecationWarning: Use of keyword argument 'alpha' for method 'interval' is deprecated and wil be removed in SciPy 1.11.0. Use first positional argument or keyword argument 'confidence' instead.\n",
      "  sts.t.interval(alpha=0.95, df=len(sample)-1, loc=np.mean(sample), scale=sts.sem(sample))\n"
     ]
    },
    {
     "data": {
      "text/plain": [
       "(-2.4338283732401345, 0.8498077668612228)"
      ]
     },
     "execution_count": 69,
     "metadata": {},
     "output_type": "execute_result"
    }
   ],
   "source": [
    "sts.t.interval(confidence=0.95, df=len(sample)-1, loc=np.mean(sample), scale=sts.sem(sample)) \n"
   ]
  },
  {
   "cell_type": "markdown",
   "metadata": {},
   "source": [
    "## 1.2\n",
    "Найти интервальную оценку (доверительный интервал) для математического ожидания случайной величины X, предполагая, что дисперсия случайной величины X неизвестна"
   ]
  },
  {
   "cell_type": "code",
   "execution_count": 80,
   "metadata": {},
   "outputs": [
    {
     "data": {
      "text/plain": [
       "4.090459284265407"
      ]
     },
     "execution_count": 80,
     "metadata": {},
     "output_type": "execute_result"
    }
   ],
   "source": [
    "y = 0.95\n",
    "degree_of_freedom = 29\n",
    "q1 = 0.975\n",
    "q2 = 0.025\n",
    "a = sts.t.ppf(q1, degree_of_freedom) - sts.t.ppf(q2, degree_of_freedom)\n",
    "a\n"
   ]
  },
  {
   "cell_type": "code",
   "execution_count": null,
   "metadata": {},
   "outputs": [],
   "source": [
    "print(f\"Доверительный интервал для матожидания а при известной дисперсии sigma = {sigma} при gamma = {gamma} - ({mean - delta}, {mean + delta})\")"
   ]
  }
 ],
 "metadata": {
  "kernelspec": {
   "display_name": ".venv",
   "language": "python",
   "name": "python3"
  },
  "language_info": {
   "codemirror_mode": {
    "name": "ipython",
    "version": 3
   },
   "file_extension": ".py",
   "mimetype": "text/x-python",
   "name": "python",
   "nbconvert_exporter": "python",
   "pygments_lexer": "ipython3",
   "version": "3.10.7"
  }
 },
 "nbformat": 4,
 "nbformat_minor": 2
}
