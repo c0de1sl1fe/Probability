{
 "cells": [
  {
   "cell_type": "code",
   "execution_count": 21,
   "metadata": {},
   "outputs": [
    {
     "name": "stdout",
     "output_type": "stream",
     "text": [
      "11.7\n"
     ]
    },
    {
     "data": {
      "text/plain": [
       "667.2912060301506"
      ]
     },
     "execution_count": 21,
     "metadata": {},
     "output_type": "execute_result"
    }
   ],
   "source": [
    "interv = [7, 9, 11, 13, 15]\n",
    "count = [3, 18, 92, 80, 7]\n",
    "# interv = [15, 25, 35, 45, 55]\n",
    "# count = [7, 23, 40, 20, 10]\n",
    "n = 200\n",
    "# n = 100\n",
    "x_mean = 0\n",
    "dic = zip(interv, count)\n",
    "for i, j in dic: \n",
    "    x_mean+=i*j\n",
    "x_mean/=n\n",
    "print(x_mean)\n",
    "gamma = 0.99\n",
    "s2 = 0\n",
    "dic = zip(interv, count)                        \n",
    "for i, j in dic: \n",
    "    s2+=(j-x_mean)**2 * i\n",
    "s2/=(n-1)\n",
    "s2"
   ]
  },
  {
   "cell_type": "code",
   "execution_count": 31,
   "metadata": {},
   "outputs": [
    {
     "name": "stdout",
     "output_type": "stream",
     "text": [
      "132790.95949875223\n"
     ]
    }
   ],
   "source": [
    "import scipy.stats as stat\n",
    "n = 200\n",
    "print((n-1)*s2/stat.chi2.cdf(29, (1+gamma)/2))\n"
   ]
  },
  {
   "cell_type": "code",
   "execution_count": 33,
   "metadata": {},
   "outputs": [
    {
     "name": "stdout",
     "output_type": "stream",
     "text": [
      "0.05925661382409762, 0.16296560839812457\n",
      "0.048257175005640224, 0.17396504721658199\n",
      "0.03002953353505365, 0.19219268868716854\n"
     ]
    }
   ],
   "source": [
    "ts = [1.65, 2, 2.58]\n",
    "p = 1/9\n",
    "q = 8/9\n",
    "n = 100\n",
    "for t in ts:\n",
    "    print(f\"{1/9 - t*(p*q)**0.5 / n**0.5}, {1/9 + t*(p*q)**0.5 / n**0.5}\")"
   ]
  }
 ],
 "metadata": {
  "kernelspec": {
   "display_name": ".venv",
   "language": "python",
   "name": "python3"
  },
  "language_info": {
   "codemirror_mode": {
    "name": "ipython",
    "version": 3
   },
   "file_extension": ".py",
   "mimetype": "text/x-python",
   "name": "python",
   "nbconvert_exporter": "python",
   "pygments_lexer": "ipython3",
   "version": "3.10.7"
  }
 },
 "nbformat": 4,
 "nbformat_minor": 2
}
