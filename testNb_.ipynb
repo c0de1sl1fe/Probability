{
 "cells": [
  {
   "cell_type": "code",
   "execution_count": 53,
   "metadata": {},
   "outputs": [
    {
     "name": "stdout",
     "output_type": "stream",
     "text": [
      "11.7\n"
     ]
    },
    {
     "data": {
      "text/plain": [
       "667.2912060301506"
      ]
     },
     "execution_count": 53,
     "metadata": {},
     "output_type": "execute_result"
    }
   ],
   "source": [
    "interv = [7, 9, 11, 13, 15]\n",
    "count = [3, 18, 92, 80, 7]\n",
    "# interv = [15, 25, 35, 45, 55]\n",
    "# count = [7, 23, 40, 20, 10]\n",
    "n = 200\n",
    "# n = 100\n",
    "x_mean = 0\n",
    "dic = zip(interv, count)\n",
    "for i, j in dic:\n",
    "    x_mean += i*j\n",
    "x_mean /= n\n",
    "print(x_mean)\n",
    "gamma = 0.99\n",
    "s2 = 0\n",
    "dic = zip(interv, count)\n",
    "for i, j in dic:\n",
    "    s2 += (j-x_mean)**2 * i\n",
    "s2 /= (n-1)\n",
    "s2"
   ]
  },
  {
   "cell_type": "code",
   "execution_count": 54,
   "metadata": {},
   "outputs": [
    {
     "name": "stdout",
     "output_type": "stream",
     "text": [
      "132790.95949875223\n"
     ]
    }
   ],
   "source": [
    "import scipy.stats as stat\n",
    "n = 200\n",
    "print((n-1)*s2/stat.chi2.cdf(29, (1+gamma)/2))"
   ]
  },
  {
   "cell_type": "code",
   "execution_count": 55,
   "metadata": {},
   "outputs": [
    {
     "name": "stdout",
     "output_type": "stream",
     "text": [
      "0.05925661382409762, 0.16296560839812457\n",
      "0.048257175005640224, 0.17396504721658199\n",
      "0.03002953353505365, 0.19219268868716854\n"
     ]
    }
   ],
   "source": [
    "ts = [1.65, 2, 2.58]\n",
    "p = 1/9\n",
    "q = 8/9\n",
    "n = 100\n",
    "for t in ts:\n",
    "    print(f\"{1/9 - t*(p*q)**0.5 / n**0.5}, {1/9 + t*(p*q)**0.5 / n**0.5}\")"
   ]
  },
  {
   "cell_type": "code",
   "execution_count": 56,
   "metadata": {},
   "outputs": [
    {
     "name": "stdout",
     "output_type": "stream",
     "text": [
      "\n",
      "16 20 0.8\n",
      "21 20 0.05\n",
      "18 20 0.2\n",
      "19 20 0.05\n",
      "24 20 0.8\n",
      "22 20 0.2\n",
      "2.1\n"
     ]
    }
   ],
   "source": [
    "import numpy as np\n",
    "print()\n",
    "# mi = [12, 17, 27, 60, 19, 34, 11]\n",
    "# mit = [8, 24, 30, 68, 21, 19, 10]\n",
    "# mi = [5, 9, 36, 70, 99, 81, 19, 11]\n",
    "# mit = [7, 12, 39, 76, 93, 67, 24, 13]\n",
    "# mi = [7, 12, 49, 66, 83, 67, 24, 13]\n",
    "# mit = [5, 9, 46, 60, 89, 81, 19, 11]\n",
    "mi = [7, 19, 27, 51, 18, 35, 6]\n",
    "mit = [6, 23, 30, 58, 20, 22, 5]\n",
    "\n",
    "mi = [16, 21, 18, 19, 24, 22]\n",
    "mit = [20, 20, 20, 20, 20, 20]\n",
    "\n",
    "np.sum(mit)\n",
    "alpha = 0.01\n",
    "sum = 0\n",
    "for i, j in zip(mi, mit):\n",
    "    sum += ((i-j)**2)/j\n",
    "    print(i, j, ((i-j)**2)/j)\n",
    "print(sum)"
   ]
  },
  {
   "cell_type": "code",
   "execution_count": 57,
   "metadata": {},
   "outputs": [
    {
     "data": {
      "text/plain": [
       "<matplotlib.patches.StepPatch at 0x23126c541f0>"
      ]
     },
     "execution_count": 57,
     "metadata": {},
     "output_type": "execute_result"
    },
    {
     "data": {
      "image/png": "[encoded data removed]",
      "text/plain": [
       "<Figure size 640x480 with 1 Axes>"
      ]
     },
     "metadata": {},
     "output_type": "display_data"
    }
   ],
   "source": [
    "import matplotlib.pyplot as plt\n",
    "time = [0, 10, 20, 30, 40, 50, 60]\n",
    "N_people = [5, 14, 33, 27, 15, 6]\n",
    "time = [10, 14, 18, 22, 26, 30]\n",
    "N_people = [9, 22, 35, 24, 10]\n",
    "plt.stairs(N_people, time, fill=True)"
   ]
  },
  {
   "cell_type": "code",
   "execution_count": 58,
   "metadata": {},
   "outputs": [
    {
     "name": "stdout",
     "output_type": "stream",
     "text": [
      "[12, 16, 20, 24, 28]\n",
      "20.16\n",
      "19.69131313131313\n",
      "4.437489507741188\n",
      "14 10\n",
      "18 14\n",
      "22 18\n",
      "26 22\n",
      "30 26\n"
     ]
    }
   ],
   "source": [
    "time_1=[]\n",
    "for i in range(0, len(time)-1):\n",
    "    time_1.append(int((time[i+1]+time[i])/2))\n",
    "\n",
    "print(time_1)\n",
    "a = 0\n",
    "n = np.sum(N_people)\n",
    "for i, j in zip(time_1, N_people):\n",
    "    a+=i*j/n\n",
    "print(a) \n",
    "s2  = 0\n",
    "for i, j in zip(time_1, N_people):\n",
    "    s2+=((i-a)**2)*j/(n-1)\n",
    "\n",
    "print(s2)\n",
    "import scipy.stats as sts\n",
    "s = np.sqrt(s2)\n",
    "print(s)\n",
    "# функция ошибок по традиции\n",
    "res_n = []\n",
    "import math \n",
    "\n",
    "for i in range(0, len(time)-1):\n",
    "    print(time[i+1], time[i])\n",
    "    res_n.append(math.ceil((sts.norm.cdf(time[i+1],loc=a, scale=s)-sts.norm.cdf(time[i],loc=a, scale=s))*n))"
   ]
  },
  {
   "cell_type": "code",
   "execution_count": 59,
   "metadata": {},
   "outputs": [
    {
     "name": "stdout",
     "output_type": "stream",
     "text": [
      "[8, 24, 35, 25, 9]\n"
     ]
    },
    {
     "data": {
      "text/plain": [
       "101"
      ]
     },
     "execution_count": 59,
     "metadata": {},
     "output_type": "execute_result"
    }
   ],
   "source": [
    "print(res_n)\n",
    "np.sum(res_n)"
   ]
  },
  {
   "cell_type": "code",
   "execution_count": 60,
   "metadata": {},
   "outputs": [
    {
     "name": "stdout",
     "output_type": "stream",
     "text": [
      "9 8 0.125\n",
      "22 24 0.16666666666666666\n",
      "35 35 0.0\n",
      "24 25 0.04\n",
      "10 9 0.1111111111111111\n",
      "0.4427777777777777\n"
     ]
    }
   ],
   "source": [
    "mi = N_people\n",
    "mit = res_n\n",
    "\n",
    "np.sum(mit)\n",
    "alpha = 0.01\n",
    "sum = 0\n",
    "for i, j in zip(mi, mit):\n",
    "    sum += ((i-j)**2)/j\n",
    "    print(i, j, ((i-j)**2)/j)\n",
    "print(sum)"
   ]
  },
  {
   "cell_type": "code",
   "execution_count": 61,
   "metadata": {},
   "outputs": [
    {
     "data": {
      "image/png": "[encoded data removed]",
      "text/plain": [
       "<Figure size 640x480 with 1 Axes>"
      ]
     },
     "metadata": {},
     "output_type": "display_data"
    }
   ],
   "source": [
    "########################## 12.12 #################################\n",
    "x = [77, 69, 75, 55, 73, 60]\n",
    "y = [10, 16, 11, 18, 15, 17]\n",
    "import matplotlib.pyplot as plt\n",
    "import numpy as np\n",
    "plt.plot_date(x, y)\n",
    "\n",
    "plt.show()"
   ]
  },
  {
   "cell_type": "code",
   "execution_count": 62,
   "metadata": {},
   "outputs": [
    {
     "name": "stdout",
     "output_type": "stream",
     "text": [
      "means:  68.16666666666667 14.5\n",
      "8.833333333333329 -4.5\n",
      "0.8333333333333286 1.5\n",
      "6.833333333333329 -3.5\n",
      "-13.166666666666671 3.5\n",
      "4.833333333333329 0.5\n",
      "-8.166666666666671 2.5\n",
      "cov:  -21.083333333333332\n"
     ]
    }
   ],
   "source": [
    "x_ = np.mean(x)\n",
    "y_ = np.mean(y)\n",
    "print(\"means: \", x_, y_)\n",
    "n = len(x)\n",
    "cov = 0\n",
    "for i, j in zip(x, y):\n",
    "    tmp_x = i-x_\n",
    "    tmp_y = j-y_\n",
    "    print(tmp_x, tmp_y)\n",
    "    cov+=tmp_x*tmp_y\n",
    "cov/=n\n",
    "print(\"cov: \", cov)"
   ]
  },
  {
   "cell_type": "code",
   "execution_count": 63,
   "metadata": {},
   "outputs": [
    {
     "name": "stdout",
     "output_type": "stream",
     "text": [
      "77.76666666666667\n",
      "[11.629166666666666, 14.229166666666668, 12.279166666666669, 18.77916666666667, 12.929166666666667, 17.15416666666667]\n"
     ]
    }
   ],
   "source": [
    "import scipy.stats as stats\n",
    "import statistics\n",
    "s2 = statistics.variance(x)\n",
    "print(s2)\n",
    "b1 = -0.325\n",
    "\n",
    "b0 = y_ - b1*x_\n",
    "b0\n",
    "y_new = []\n",
    "for i in x:\n",
    "    y_new.append(b0 + b1*i)\n",
    "print(y_new)\n"
   ]
  },
  {
   "cell_type": "code",
   "execution_count": 64,
   "metadata": {},
   "outputs": [
    {
     "name": "stdout",
     "output_type": "stream",
     "text": [
      "14.5\n"
     ]
    }
   ],
   "source": [
    "y_new_ = np.mean(y_new)\n",
    "print(y_new_)\n"
   ]
  },
  {
   "cell_type": "code",
   "execution_count": 65,
   "metadata": {},
   "outputs": [
    {
     "name": "stdout",
     "output_type": "stream",
     "text": [
      "[-1.6291666666666664, 1.7708333333333321, -1.2791666666666686, -0.7791666666666686, 2.070833333333333, -0.15416666666666856]\n",
      "-1.1842378929335002e-15\n"
     ]
    }
   ],
   "source": [
    "errors = []\n",
    "for i, j in zip(y, y_new):\n",
    "    errors.append(i-j)\n",
    "\n",
    "print(errors)\n",
    "print(np.mean(errors))"
   ]
  },
  {
   "cell_type": "code",
   "execution_count": 66,
   "metadata": {},
   "outputs": [
    {
     "name": "stdout",
     "output_type": "stream",
     "text": [
      "12.345520833333335\n"
     ]
    }
   ],
   "source": [
    "ess = 0\n",
    "for i in errors:\n",
    "    ess+=i*i\n",
    "\n",
    "print(ess)\n"
   ]
  },
  {
   "cell_type": "code",
   "execution_count": 67,
   "metadata": {},
   "outputs": [
    {
     "name": "stdout",
     "output_type": "stream",
     "text": [
      "41.07052083333335\n"
     ]
    }
   ],
   "source": [
    "rss = 0\n",
    "for i in y_new:\n",
    "    rss+=(i-y_)**2\n",
    "print(rss)"
   ]
  },
  {
   "cell_type": "code",
   "execution_count": 68,
   "metadata": {},
   "outputs": [
    {
     "name": "stdout",
     "output_type": "stream",
     "text": [
      "53.5\n"
     ]
    }
   ],
   "source": [
    "tss = 0\n",
    "for i in y:\n",
    "    tss+=(i-y_)**2\n",
    "print(tss)"
   ]
  }
 ],
 "metadata": {
  "kernelspec": {
   "display_name": ".venv",
   "language": "python",
   "name": "python3"
  },
  "language_info": {
   "codemirror_mode": {
    "name": "ipython",
    "version": 3
   },
   "file_extension": ".py",
   "mimetype": "text/x-python",
   "name": "python",
   "nbconvert_exporter": "python",
   "pygments_lexer": "ipython3",
   "version": "3.10.7"
  }
 },
 "nbformat": 4,
 "nbformat_minor": 2
}
