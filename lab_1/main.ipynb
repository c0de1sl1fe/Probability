{
 "cells": [
  {
   "cell_type": "markdown",
   "metadata": {},
   "source": [
    "Part I\n",
    "---\n"
   ]
  },
  {
   "cell_type": "markdown",
   "metadata": {},
   "source": [
    "| Var | Range | n | q | k | Rule | Law |\n",
    "| --- | --- | --- | --- | --- | --- | --- |\n",
    "| 5 | (-2;9) | 110 | 1.25 | 4 | Скотта | t-распределение k = 7 |\n"
   ]
  },
  {
   "cell_type": "code",
   "execution_count": 7,
   "metadata": {},
   "outputs": [],
   "source": [
    "import matplotlib.pyplot as plt\n",
    "import numpy as np\n",
    "import scipy.stats as sts\n",
    "import matplotlib.pyplot as plt\n",
    "\n",
    "import math\n",
    "\n",
    "n = 110\n",
    "a = -2\n",
    "sigma = 9\n"
   ]
  },
  {
   "cell_type": "code",
   "execution_count": 19,
   "metadata": {},
   "outputs": [
    {
     "name": "stdout",
     "output_type": "stream",
     "text": [
      "[ -2.88480474  -1.95543901  -0.44360767  -7.62971491 -14.39600616\n",
      "   4.31492726  -6.76629637  -4.13765744  12.70293871   1.67024804\n",
      "   7.71550407 -15.78583535 -17.79077059   4.85973684   1.67709351\n",
      "  -4.26459934  -0.38269317  -1.1102185    3.63910779  -0.8394275\n",
      "  14.08312478   4.89129837 -15.13568451  -0.09086816   3.16790471\n",
      "   2.17429292   0.13169542 -12.55159119   4.01163165   1.13495152\n",
      "  -3.66967951   0.85222245  -3.22950386 -16.61255152  -4.04805961\n",
      "  10.14863565  -0.10798788  -4.52099251   6.45592336   2.12285313\n",
      "  -2.12298586  -3.69249486   5.12508401  -8.77874551 -13.65716122\n",
      "   0.85217905  -0.15733971  -1.30790952  -2.85839178  -8.57388729\n",
      "   5.39191915  -3.66991812   6.07603456   6.11311762   2.79332312\n",
      "  -4.7180631    2.9194405    8.30570491 -14.00412618 -13.72092807\n",
      "  -7.85482383  -2.30004419  11.493866     0.61213222  -8.88361724\n",
      " -12.20769724  -8.75453681  28.15982303  -5.450418    -7.00039876\n",
      "  21.64913714   5.70781633  14.90658992   3.24839367   4.48127677\n",
      "   2.9232887   -8.89028205  -3.48388207  -0.2291055   -5.78351846\n",
      "  -5.91451684   8.70988182  -3.16581803  -8.05135072   9.45276131\n",
      "  -9.03470136 -10.75370931 -20.70580844  -0.90549593   2.42890982\n",
      " -19.83046604  -7.45859986   5.21991967  -1.77031497  -0.53393018\n",
      "  -9.71243043   1.93586907   3.44783521  11.54276154   2.59783813\n",
      "  -7.60090152   3.50572556  -5.08820165  19.23445561   2.71269324\n",
      " -10.31044513  -6.00853951  -5.69002903   3.86242958  -3.20489439]\n"
     ]
    }
   ],
   "source": [
    "sample = sts.norm.rvs(loc=a, scale=sigma, size=n)\n",
    "print(sample)\n",
    "\n",
    "\n"
   ]
  },
  {
   "cell_type": "code",
   "execution_count": 23,
   "metadata": {},
   "outputs": [
    {
     "name": "stdout",
     "output_type": "stream",
     "text": [
      "8 -21 29 6.25\n"
     ]
    }
   ],
   "source": [
    "n_intervals = int(1 + 3.32*math.log10(n))+1\n",
    "min_smpl = math.floor(sample.min())\n",
    "max_smpl = math.ceil(sample.max())\n",
    "h = (max_smpl-min_smpl)/n_intervals\n",
    "\n",
    "print(n_intervals, min_smpl, max_smpl, h)\n"
   ]
  },
  {
   "cell_type": "code",
   "execution_count": 27,
   "metadata": {},
   "outputs": [
    {
     "name": "stdout",
     "output_type": "stream",
     "text": [
      "1 interval: -21.0 - -14.75\n",
      "2 interval: -14.75 - -8.5\n",
      "3 interval: -8.5 - -2.25\n",
      "4 interval: -2.25 - 4.0\n",
      "5 interval: 4.0 - 10.25\n",
      "6 interval: 10.25 - 16.5\n",
      "7 interval: 16.5 - 22.75\n",
      "8 interval: 22.75 - 29.0\n"
     ]
    }
   ],
   "source": [
    "intervals = []\n",
    "for i in range(0, n_intervals):\n",
    "    print(f'{i+1} interval: {min_smpl+i*h} - {min_smpl+(i+1)*h}')\n",
    "    intervals.append(min_smpl+i*h)\n",
    "intervals.append(min_smpl+n_intervals*h)\n"
   ]
  },
  {
   "cell_type": "code",
   "execution_count": 85,
   "metadata": {},
   "outputs": [
    {
     "name": "stdout",
     "output_type": "stream",
     "text": [
      "1 interval: 6\n",
      "2 interval: 15\n",
      "3 interval: 28\n",
      "4 interval: 36\n",
      "5 interval: 17\n",
      "6 interval: 5\n",
      "7 interval: 2\n",
      "8 interval: 1\n",
      "\n",
      "Сумма относительных частот - 1.0\n"
     ]
    }
   ],
   "source": [
    "frequency = []\n",
    "arraySort = list(sample)\n",
    "arraySort.sort()\n",
    "for i in range(0, len(intervals)-1):\n",
    "    frequency.append(0)\n",
    "    for j in arraySort:\n",
    "        if j >= intervals[i] and j <= intervals[i+1]:\n",
    "            frequency[i] += 1\n",
    "for i in range(0, len(frequency)):\n",
    "    print(f'{i+1} interval: {frequency[i]}')\n",
    "frequency = np.array(frequency)\n",
    "\n",
    "print(f'\\nСумма относительных частот - {(frequency/n).sum()}')\n",
    "# frequency = frequency/n\n",
    "# print(frequency)\n",
    "\n"
   ]
  },
  {
   "cell_type": "code",
   "execution_count": 88,
   "metadata": {},
   "outputs": [
    {
     "name": "stdout",
     "output_type": "stream",
     "text": [
      "1 interval: 0.96\n",
      "2 interval: 2.4\n",
      "3 interval: 4.48\n",
      "4 interval: 5.76\n",
      "5 interval: 2.72\n",
      "6 interval: 0.8\n",
      "7 interval: 0.32\n",
      "8 interval: 0.16\n",
      "17.6\n"
     ]
    }
   ],
   "source": [
    "tmp = frequency/h\n",
    "for i in range(0, len(tmp)):\n",
    "    print(f'{i+1} interval: {tmp[i]}')\n",
    "print(f'Сумма абсолютных частот {tmp.sum()}')"
   ]
  },
  {
   "cell_type": "code",
   "execution_count": 86,
   "metadata": {},
   "outputs": [
    {
     "data": {
      "text/plain": [
       "<matplotlib.patches.StepPatch at 0x20459d792d0>"
      ]
     },
     "execution_count": 86,
     "metadata": {},
     "output_type": "execute_result"
    },
    {
     "data": {
      "image/png": "[encoded data removed]",
      "text/plain": [
       "<Figure size 640x480 with 1 Axes>"
      ]
     },
     "metadata": {},
     "output_type": "display_data"
    }
   ],
   "source": [
    "plt.title(\"Диаграма относительных частот\")\n",
    "plt.stairs(frequency, intervals, fill=True)\n"
   ]
  },
  {
   "cell_type": "markdown",
   "metadata": {},
   "source": [
    "Part II\n",
    "---\n"
   ]
  },
  {
   "cell_type": "code",
   "execution_count": null,
   "metadata": {},
   "outputs": [],
   "source": []
  }
 ],
 "metadata": {
  "kernelspec": {
   "display_name": ".venv",
   "language": "python",
   "name": "python3"
  },
  "language_info": {
   "codemirror_mode": {
    "name": "ipython",
    "version": 3
   },
   "file_extension": ".py",
   "mimetype": "text/x-python",
   "name": "python",
   "nbconvert_exporter": "python",
   "pygments_lexer": "ipython3",
   "version": "3.10.7"
  },
  "orig_nbformat": 4
 },
 "nbformat": 4,
 "nbformat_minor": 2
}
