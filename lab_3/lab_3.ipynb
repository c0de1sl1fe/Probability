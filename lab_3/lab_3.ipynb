{
 "cells": [
  {
   "cell_type": "markdown",
   "metadata": {},
   "source": [
    "| Var | Федеральный округ | $$alpha $$ | M | $$(a, \\sigma^2)$$ | n | Закон распределения св |\n",
    "| --- | --- | --- | --- | --- | --- | --- |\n",
    "| 5 | Северо-Кавказский ФО | 0.0015 | 2700 | (3,1) | 56 | Релея  модой равное 12 |\n",
    "\n"
   ]
  },
  {
   "cell_type": "code",
   "execution_count": 127,
   "metadata": {},
   "outputs": [],
   "source": [
    "# consts\n",
    "alpha = 0.015\n",
    "M = 2700\n",
    "a = -2\n",
    "sigma = 1\n",
    "n = 45\n",
    "moda = 12"
   ]
  },
  {
   "cell_type": "code",
   "execution_count": 128,
   "metadata": {},
   "outputs": [],
   "source": [
    "import math\n",
    "import numpy as np\n",
    "import pandas as pd\n",
    "import matplotlib.pyplot as plt\n",
    "import scipy\n",
    "from scipy import stats \n",
    "from scipy.stats import norm\n",
    "import openpyxl\n",
    "import statistics\n"
   ]
  },
  {
   "cell_type": "markdown",
   "metadata": {},
   "source": [
    "## 2. Визуализировать данные показателя X\n",
    "## 3. Вычислить описательную статистику"
   ]
  },
  {
   "cell_type": "markdown",
   "metadata": {},
   "source": [
    "# Part 1"
   ]
  },
  {
   "cell_type": "markdown",
   "metadata": {},
   "source": [
    "## 1. Найти значения случайного показателя X"
   ]
  },
  {
   "cell_type": "code",
   "execution_count": 129,
   "metadata": {},
   "outputs": [
    {
     "data": {
      "text/html": [
       "<div>\n",
       "<style scoped>\n",
       "    .dataframe tbody tr th:only-of-type {\n",
       "        vertical-align: middle;\n",
       "    }\n",
       "\n",
       "    .dataframe tbody tr th {\n",
       "        vertical-align: top;\n",
       "    }\n",
       "\n",
       "    .dataframe thead th {\n",
       "        text-align: right;\n",
       "    }\n",
       "</style>\n",
       "<table border=\"1\" class=\"dataframe\">\n",
       "  <thead>\n",
       "    <tr style=\"text-align: right;\">\n",
       "      <th></th>\n",
       "      <th>Округ</th>\n",
       "      <th>2005</th>\n",
       "      <th>2010</th>\n",
       "      <th>2015</th>\n",
       "      <th>2019</th>\n",
       "      <th>2020</th>\n",
       "      <th>2021</th>\n",
       "    </tr>\n",
       "  </thead>\n",
       "  <tbody>\n",
       "    <tr>\n",
       "      <th>0</th>\n",
       "      <td>Северо-Кавказский федеральный округ</td>\n",
       "      <td>42.5</td>\n",
       "      <td>40.1</td>\n",
       "      <td>39.5</td>\n",
       "      <td>42.9</td>\n",
       "      <td>44.1</td>\n",
       "      <td>44.1</td>\n",
       "    </tr>\n",
       "    <tr>\n",
       "      <th>1</th>\n",
       "      <td>Республика Дагестан</td>\n",
       "      <td>37.4</td>\n",
       "      <td>39.2</td>\n",
       "      <td>36.7</td>\n",
       "      <td>41.3</td>\n",
       "      <td>41.4</td>\n",
       "      <td>40.9</td>\n",
       "    </tr>\n",
       "    <tr>\n",
       "      <th>2</th>\n",
       "      <td>Республика Ингушетия</td>\n",
       "      <td>27.0</td>\n",
       "      <td>33.8</td>\n",
       "      <td>39.4</td>\n",
       "      <td>44.4</td>\n",
       "      <td>44.7</td>\n",
       "      <td>44.9</td>\n",
       "    </tr>\n",
       "    <tr>\n",
       "      <th>3</th>\n",
       "      <td>Кабардино-Балкарская Республика</td>\n",
       "      <td>44.1</td>\n",
       "      <td>44.0</td>\n",
       "      <td>43.7</td>\n",
       "      <td>46.9</td>\n",
       "      <td>48.1</td>\n",
       "      <td>47.4</td>\n",
       "    </tr>\n",
       "    <tr>\n",
       "      <th>4</th>\n",
       "      <td>Карачаево-Черкесская Республика</td>\n",
       "      <td>33.1</td>\n",
       "      <td>33.0</td>\n",
       "      <td>38.9</td>\n",
       "      <td>41.7</td>\n",
       "      <td>42.3</td>\n",
       "      <td>43.2</td>\n",
       "    </tr>\n",
       "    <tr>\n",
       "      <th>5</th>\n",
       "      <td>Республика Северная Осетия – Алания</td>\n",
       "      <td>66.1</td>\n",
       "      <td>70.8</td>\n",
       "      <td>64.5</td>\n",
       "      <td>68.2</td>\n",
       "      <td>69.9</td>\n",
       "      <td>68.2</td>\n",
       "    </tr>\n",
       "    <tr>\n",
       "      <th>6</th>\n",
       "      <td>Чеченская Республика</td>\n",
       "      <td>NaN</td>\n",
       "      <td>28.3</td>\n",
       "      <td>27.0</td>\n",
       "      <td>29.4</td>\n",
       "      <td>32.2</td>\n",
       "      <td>32.8</td>\n",
       "    </tr>\n",
       "    <tr>\n",
       "      <th>7</th>\n",
       "      <td>Ставропольский край</td>\n",
       "      <td>44.9</td>\n",
       "      <td>39.5</td>\n",
       "      <td>41.3</td>\n",
       "      <td>44.2</td>\n",
       "      <td>46.1</td>\n",
       "      <td>46.7</td>\n",
       "    </tr>\n",
       "  </tbody>\n",
       "</table>\n",
       "</div>"
      ],
      "text/plain": [
       "                                 Округ  2005  2010  2015  2019  2020  2021\n",
       "0  Северо-Кавказский федеральный округ  42.5  40.1  39.5  42.9  44.1  44.1\n",
       "1                  Республика Дагестан  37.4  39.2  36.7  41.3  41.4  40.9\n",
       "2                Республика Ингушетия   27.0  33.8  39.4  44.4  44.7  44.9\n",
       "3      Кабардино-Балкарская Республика  44.1  44.0  43.7  46.9  48.1  47.4\n",
       "4      Карачаево-Черкесская Республика  33.1  33.0  38.9  41.7  42.3  43.2\n",
       "5  Республика Северная Осетия – Алания  66.1  70.8  64.5  68.2  69.9  68.2\n",
       "6                Чеченская Республика    NaN  28.3  27.0  29.4  32.2  32.8\n",
       "7                  Ставропольский край  44.9  39.5  41.3  44.2  46.1  46.7"
      ]
     },
     "execution_count": 129,
     "metadata": {},
     "output_type": "execute_result"
    }
   ],
   "source": [
    "sample = pd.read_excel(\"example/CHISLO_DOCTORS.xlsx\", sheet_name=\"My_data\")\n",
    "sample"
   ]
  },
  {
   "cell_type": "code",
   "execution_count": 130,
   "metadata": {},
   "outputs": [
    {
     "name": "stdout",
     "output_type": "stream",
     "text": [
      "mean: 42.1\n",
      "Median: 40.75\n",
      "S^2: 183.78799999999995\n",
      "max: 66.1 \n",
      "min: 27.0\n"
     ]
    },
    {
     "data": {
      "image/png": "[encoded data removed]",
      "text/plain": [
       "<Figure size 640x480 with 1 Axes>"
      ]
     },
     "metadata": {},
     "output_type": "display_data"
    }
   ],
   "source": [
    "sample_2005 = sample.iloc[1:, 1]\n",
    "sample_2005 = sample_2005[~np.isnan (sample_2005)]\n",
    "plt.hist(sample_2005, bins=3, edgecolor='black', color=\"cornflowerblue\", alpha=0.7)\n",
    "plt.title(\"sample_2005\")\n",
    "mean_sample_2005 = np.mean(sample_2005)\n",
    "print(f\"mean: {mean_sample_2005}\")\n",
    "print(f'Median: {np.median(sample_2005)}')\n",
    "s2_sample_2005 = np.var(sample_2005, ddof=1)\n",
    "print(f\"S^2: {statistics.variance(sample_2005)}\")\n",
    "print(f\"max: {np.max(sample_2005)} \\nmin: {np.min(sample_2005)}\")"
   ]
  },
  {
   "cell_type": "code",
   "execution_count": 131,
   "metadata": {},
   "outputs": [
    {
     "data": {
      "text/html": [
       "<div>\n",
       "<style scoped>\n",
       "    .dataframe tbody tr th:only-of-type {\n",
       "        vertical-align: middle;\n",
       "    }\n",
       "\n",
       "    .dataframe tbody tr th {\n",
       "        vertical-align: top;\n",
       "    }\n",
       "\n",
       "    .dataframe thead th {\n",
       "        text-align: right;\n",
       "    }\n",
       "</style>\n",
       "<table border=\"1\" class=\"dataframe\">\n",
       "  <thead>\n",
       "    <tr style=\"text-align: right;\">\n",
       "      <th></th>\n",
       "      <th>2005</th>\n",
       "    </tr>\n",
       "  </thead>\n",
       "  <tbody>\n",
       "    <tr>\n",
       "      <th>0.25</th>\n",
       "      <td>34.175</td>\n",
       "    </tr>\n",
       "    <tr>\n",
       "      <th>0.50</th>\n",
       "      <td>40.750</td>\n",
       "    </tr>\n",
       "    <tr>\n",
       "      <th>0.75</th>\n",
       "      <td>44.700</td>\n",
       "    </tr>\n",
       "  </tbody>\n",
       "</table>\n",
       "</div>"
      ],
      "text/plain": [
       "        2005\n",
       "0.25  34.175\n",
       "0.50  40.750\n",
       "0.75  44.700"
      ]
     },
     "execution_count": 131,
     "metadata": {},
     "output_type": "execute_result"
    },
    {
     "data": {
      "image/png": "[encoded data removed]",
      "text/plain": [
       "<Figure size 640x480 with 1 Axes>"
      ]
     },
     "metadata": {},
     "output_type": "display_data"
    }
   ],
   "source": [
    "data = pd.DataFrame(sample_2005)\n",
    "data.boxplot(color = \"black\", vert=False)\n",
    "plt.title(\"sample_2005\")\n",
    "data.quantile([0.25, 0.5, 0.75])\n"
   ]
  },
  {
   "cell_type": "code",
   "execution_count": 132,
   "metadata": {},
   "outputs": [
    {
     "name": "stdout",
     "output_type": "stream",
     "text": [
      "mean: 41.228571428571435\n",
      "Median: 39.2\n",
      "S^2: 196.5490476190476\n",
      "max: 70.8 \n",
      "min: 28.3\n"
     ]
    },
    {
     "data": {
      "image/png": "[encoded data removed]",
      "text/plain": [
       "<Figure size 640x480 with 1 Axes>"
      ]
     },
     "metadata": {},
     "output_type": "display_data"
    }
   ],
   "source": [
    "sample_2010 = sample.iloc[1:, 2]\n",
    "sample_2010 = sample_2010[~np.isnan (sample_2010)]\n",
    "plt.hist(sample_2010, bins=3, edgecolor='black', color=\"cornflowerblue\", alpha=0.7)\n",
    "plt.title(\"sample_2010\")\n",
    "print(f\"mean: {np.mean(sample_2010)}\")\n",
    "print(f'Median: {np.median(sample_2010)}')\n",
    "print(f\"S^2: {statistics.variance(sample_2010)}\")\n",
    "print(f\"max: {np.max(sample_2010)} \\nmin: {np.min(sample_2010)}\")"
   ]
  },
  {
   "cell_type": "code",
   "execution_count": 133,
   "metadata": {},
   "outputs": [
    {
     "data": {
      "text/html": [
       "<div>\n",
       "<style scoped>\n",
       "    .dataframe tbody tr th:only-of-type {\n",
       "        vertical-align: middle;\n",
       "    }\n",
       "\n",
       "    .dataframe tbody tr th {\n",
       "        vertical-align: top;\n",
       "    }\n",
       "\n",
       "    .dataframe thead th {\n",
       "        text-align: right;\n",
       "    }\n",
       "</style>\n",
       "<table border=\"1\" class=\"dataframe\">\n",
       "  <thead>\n",
       "    <tr style=\"text-align: right;\">\n",
       "      <th></th>\n",
       "      <th>2010</th>\n",
       "    </tr>\n",
       "  </thead>\n",
       "  <tbody>\n",
       "    <tr>\n",
       "      <th>0.25</th>\n",
       "      <td>33.40</td>\n",
       "    </tr>\n",
       "    <tr>\n",
       "      <th>0.50</th>\n",
       "      <td>39.20</td>\n",
       "    </tr>\n",
       "    <tr>\n",
       "      <th>0.75</th>\n",
       "      <td>41.75</td>\n",
       "    </tr>\n",
       "  </tbody>\n",
       "</table>\n",
       "</div>"
      ],
      "text/plain": [
       "       2010\n",
       "0.25  33.40\n",
       "0.50  39.20\n",
       "0.75  41.75"
      ]
     },
     "execution_count": 133,
     "metadata": {},
     "output_type": "execute_result"
    },
    {
     "data": {
      "image/png": "[encoded data removed]",
      "text/plain": [
       "<Figure size 640x480 with 1 Axes>"
      ]
     },
     "metadata": {},
     "output_type": "display_data"
    }
   ],
   "source": [
    "data = pd.DataFrame(sample_2010)\n",
    "data.boxplot(color = \"black\", vert=False)\n",
    "plt.title(\"sample_2010\")\n",
    "data.quantile([0.25, 0.5, 0.75])"
   ]
  },
  {
   "cell_type": "code",
   "execution_count": 134,
   "metadata": {},
   "outputs": [
    {
     "name": "stdout",
     "output_type": "stream",
     "text": [
      "mean: 41.642857142857146\n",
      "Median: 39.4\n",
      "S^2: 129.6995238095238\n",
      "max: 64.5 \n",
      "min: 27.0\n"
     ]
    },
    {
     "data": {
      "image/png": "[encoded data removed]",
      "text/plain": [
       "<Figure size 640x480 with 1 Axes>"
      ]
     },
     "metadata": {},
     "output_type": "display_data"
    }
   ],
   "source": [
    "sample_2015 = sample.iloc[1:, 3]\n",
    "sample_2015 = sample_2015[~np.isnan (sample_2015)]\n",
    "plt.hist(sample_2015, bins=3, edgecolor='black', color=\"cornflowerblue\", alpha=0.7)\n",
    "plt.title(\"sample_2015\")\n",
    "print(f\"mean: {np.mean(sample_2015)}\")\n",
    "print(f'Median: {np.median(sample_2015)}')\n",
    "print(f\"S^2: {statistics.variance(sample_2015)}\")\n",
    "print(f\"max: {np.max(sample_2015)} \\nmin: {np.min(sample_2015)}\")"
   ]
  },
  {
   "cell_type": "code",
   "execution_count": 135,
   "metadata": {},
   "outputs": [
    {
     "data": {
      "text/html": [
       "<div>\n",
       "<style scoped>\n",
       "    .dataframe tbody tr th:only-of-type {\n",
       "        vertical-align: middle;\n",
       "    }\n",
       "\n",
       "    .dataframe tbody tr th {\n",
       "        vertical-align: top;\n",
       "    }\n",
       "\n",
       "    .dataframe thead th {\n",
       "        text-align: right;\n",
       "    }\n",
       "</style>\n",
       "<table border=\"1\" class=\"dataframe\">\n",
       "  <thead>\n",
       "    <tr style=\"text-align: right;\">\n",
       "      <th></th>\n",
       "      <th>2015</th>\n",
       "    </tr>\n",
       "  </thead>\n",
       "  <tbody>\n",
       "    <tr>\n",
       "      <th>0.25</th>\n",
       "      <td>37.8</td>\n",
       "    </tr>\n",
       "    <tr>\n",
       "      <th>0.50</th>\n",
       "      <td>39.4</td>\n",
       "    </tr>\n",
       "    <tr>\n",
       "      <th>0.75</th>\n",
       "      <td>42.5</td>\n",
       "    </tr>\n",
       "  </tbody>\n",
       "</table>\n",
       "</div>"
      ],
      "text/plain": [
       "      2015\n",
       "0.25  37.8\n",
       "0.50  39.4\n",
       "0.75  42.5"
      ]
     },
     "execution_count": 135,
     "metadata": {},
     "output_type": "execute_result"
    },
    {
     "data": {
      "image/png": "[encoded data removed]",
      "text/plain": [
       "<Figure size 640x480 with 1 Axes>"
      ]
     },
     "metadata": {},
     "output_type": "display_data"
    }
   ],
   "source": [
    "data = pd.DataFrame(sample_2015)\n",
    "data.boxplot(color = \"black\", vert=False)\n",
    "plt.title(\"sample_2015\")\n",
    "data.quantile([0.25, 0.5, 0.75])"
   ]
  },
  {
   "cell_type": "code",
   "execution_count": 136,
   "metadata": {},
   "outputs": [
    {
     "name": "stdout",
     "output_type": "stream",
     "text": [
      "mean: 45.15714285714285\n",
      "Median: 44.2\n",
      "S^2: 135.10285714285718\n",
      "max: 68.2 \n",
      "min: 29.4\n"
     ]
    },
    {
     "data": {
      "image/png": "[encoded data removed]",
      "text/plain": [
       "<Figure size 640x480 with 1 Axes>"
      ]
     },
     "metadata": {},
     "output_type": "display_data"
    }
   ],
   "source": [
    "sample_2019 = sample.iloc[1:, 4]\n",
    "sample_2019 = sample_2019[~np.isnan (sample_2019)]\n",
    "plt.hist(sample_2019, bins=3, edgecolor='black', color=\"cornflowerblue\", alpha=0.7)\n",
    "plt.title(\"sample_2019\")\n",
    "print(f\"mean: {np.mean(sample_2019)}\")\n",
    "print(f'Median: {np.median(sample_2019)}')\n",
    "print(f\"S^2: {statistics.variance(sample_2019)}\")\n",
    "print(f\"max: {np.max(sample_2019)} \\nmin: {np.min(sample_2019)}\")"
   ]
  },
  {
   "cell_type": "code",
   "execution_count": 137,
   "metadata": {},
   "outputs": [
    {
     "data": {
      "text/html": [
       "<div>\n",
       "<style scoped>\n",
       "    .dataframe tbody tr th:only-of-type {\n",
       "        vertical-align: middle;\n",
       "    }\n",
       "\n",
       "    .dataframe tbody tr th {\n",
       "        vertical-align: top;\n",
       "    }\n",
       "\n",
       "    .dataframe thead th {\n",
       "        text-align: right;\n",
       "    }\n",
       "</style>\n",
       "<table border=\"1\" class=\"dataframe\">\n",
       "  <thead>\n",
       "    <tr style=\"text-align: right;\">\n",
       "      <th></th>\n",
       "      <th>2019</th>\n",
       "    </tr>\n",
       "  </thead>\n",
       "  <tbody>\n",
       "    <tr>\n",
       "      <th>0.25</th>\n",
       "      <td>41.50</td>\n",
       "    </tr>\n",
       "    <tr>\n",
       "      <th>0.50</th>\n",
       "      <td>44.20</td>\n",
       "    </tr>\n",
       "    <tr>\n",
       "      <th>0.75</th>\n",
       "      <td>45.65</td>\n",
       "    </tr>\n",
       "  </tbody>\n",
       "</table>\n",
       "</div>"
      ],
      "text/plain": [
       "       2019\n",
       "0.25  41.50\n",
       "0.50  44.20\n",
       "0.75  45.65"
      ]
     },
     "execution_count": 137,
     "metadata": {},
     "output_type": "execute_result"
    },
    {
     "data": {
      "image/png": "[encoded data removed]",
      "text/plain": [
       "<Figure size 640x480 with 1 Axes>"
      ]
     },
     "metadata": {},
     "output_type": "display_data"
    }
   ],
   "source": [
    "data = pd.DataFrame(sample_2019)\n",
    "data.boxplot(color = \"black\", vert=False)\n",
    "plt.title(\"sample_2019\")\n",
    "data.quantile([0.25, 0.5, 0.75])"
   ]
  },
  {
   "cell_type": "code",
   "execution_count": 138,
   "metadata": {},
   "outputs": [
    {
     "name": "stdout",
     "output_type": "stream",
     "text": [
      "mean: 46.38571428571429\n",
      "Median: 44.7\n",
      "S^2: 133.59476190476195\n",
      "max: 69.9 \n",
      "min: 32.2\n"
     ]
    },
    {
     "data": {
      "image/png": "[encoded data removed]",
      "text/plain": [
       "<Figure size 640x480 with 1 Axes>"
      ]
     },
     "metadata": {},
     "output_type": "display_data"
    }
   ],
   "source": [
    "sample_2020 = sample.iloc[1:, 5]\n",
    "sample_2020 = sample_2020[~np.isnan (sample_2020)]\n",
    "plt.hist(sample_2020, bins=3, edgecolor='black', color=\"cornflowerblue\", alpha=0.7)\n",
    "plt.title(\"sample_2020\")\n",
    "print(f\"mean: {np.mean(sample_2020)}\")\n",
    "print(f'Median: {np.median(sample_2020)}')\n",
    "print(f\"S^2: {statistics.variance(sample_2020)}\")\n",
    "print(f\"max: {np.max(sample_2020)} \\nmin: {np.min(sample_2020)}\")"
   ]
  },
  {
   "cell_type": "code",
   "execution_count": 139,
   "metadata": {},
   "outputs": [
    {
     "data": {
      "text/html": [
       "<div>\n",
       "<style scoped>\n",
       "    .dataframe tbody tr th:only-of-type {\n",
       "        vertical-align: middle;\n",
       "    }\n",
       "\n",
       "    .dataframe tbody tr th {\n",
       "        vertical-align: top;\n",
       "    }\n",
       "\n",
       "    .dataframe thead th {\n",
       "        text-align: right;\n",
       "    }\n",
       "</style>\n",
       "<table border=\"1\" class=\"dataframe\">\n",
       "  <thead>\n",
       "    <tr style=\"text-align: right;\">\n",
       "      <th></th>\n",
       "      <th>2020</th>\n",
       "    </tr>\n",
       "  </thead>\n",
       "  <tbody>\n",
       "    <tr>\n",
       "      <th>0.25</th>\n",
       "      <td>41.85</td>\n",
       "    </tr>\n",
       "    <tr>\n",
       "      <th>0.50</th>\n",
       "      <td>44.70</td>\n",
       "    </tr>\n",
       "    <tr>\n",
       "      <th>0.75</th>\n",
       "      <td>47.10</td>\n",
       "    </tr>\n",
       "  </tbody>\n",
       "</table>\n",
       "</div>"
      ],
      "text/plain": [
       "       2020\n",
       "0.25  41.85\n",
       "0.50  44.70\n",
       "0.75  47.10"
      ]
     },
     "execution_count": 139,
     "metadata": {},
     "output_type": "execute_result"
    },
    {
     "data": {
      "image/png": "[encoded data removed]",
      "text/plain": [
       "<Figure size 640x480 with 1 Axes>"
      ]
     },
     "metadata": {},
     "output_type": "display_data"
    }
   ],
   "source": [
    "data = pd.DataFrame(sample_2020)\n",
    "data.boxplot(color = \"black\", vert=False)\n",
    "plt.title(\"sample_2020\")\n",
    "data.quantile([0.25, 0.5, 0.75])"
   ]
  },
  {
   "cell_type": "code",
   "execution_count": 140,
   "metadata": {},
   "outputs": [
    {
     "name": "stdout",
     "output_type": "stream",
     "text": [
      "mean: 46.3\n",
      "Median: 44.9\n",
      "S^2: 117.3266666666667\n",
      "max: 68.2 \n",
      "min: 32.8\n"
     ]
    },
    {
     "data": {
      "image/png": "[encoded data removed]",
      "text/plain": [
       "<Figure size 640x480 with 1 Axes>"
      ]
     },
     "metadata": {},
     "output_type": "display_data"
    }
   ],
   "source": [
    "sample_2021 = sample.iloc[1:, 6]\n",
    "sample_2021 = sample_2021[~np.isnan (sample_2021)]\n",
    "plt.hist(sample_2021, bins=3, edgecolor='black', color=\"cornflowerblue\", alpha=0.7)\n",
    "plt.title(\"sample_2021\")\n",
    "print(f\"mean: {np.mean(sample_2021)}\")\n",
    "print(f'Median: {np.median(sample_2021)}')\n",
    "print(f\"S^2: {statistics.variance(sample_2021)}\")\n",
    "print(f\"max: {np.max(sample_2021)} \\nmin: {np.min(sample_2021)}\")"
   ]
  },
  {
   "cell_type": "code",
   "execution_count": 141,
   "metadata": {},
   "outputs": [
    {
     "data": {
      "text/html": [
       "<div>\n",
       "<style scoped>\n",
       "    .dataframe tbody tr th:only-of-type {\n",
       "        vertical-align: middle;\n",
       "    }\n",
       "\n",
       "    .dataframe tbody tr th {\n",
       "        vertical-align: top;\n",
       "    }\n",
       "\n",
       "    .dataframe thead th {\n",
       "        text-align: right;\n",
       "    }\n",
       "</style>\n",
       "<table border=\"1\" class=\"dataframe\">\n",
       "  <thead>\n",
       "    <tr style=\"text-align: right;\">\n",
       "      <th></th>\n",
       "      <th>2021</th>\n",
       "    </tr>\n",
       "  </thead>\n",
       "  <tbody>\n",
       "    <tr>\n",
       "      <th>0.25</th>\n",
       "      <td>42.05</td>\n",
       "    </tr>\n",
       "    <tr>\n",
       "      <th>0.50</th>\n",
       "      <td>44.90</td>\n",
       "    </tr>\n",
       "    <tr>\n",
       "      <th>0.75</th>\n",
       "      <td>47.05</td>\n",
       "    </tr>\n",
       "  </tbody>\n",
       "</table>\n",
       "</div>"
      ],
      "text/plain": [
       "       2021\n",
       "0.25  42.05\n",
       "0.50  44.90\n",
       "0.75  47.05"
      ]
     },
     "execution_count": 141,
     "metadata": {},
     "output_type": "execute_result"
    },
    {
     "data": {
      "image/png": "[encoded data removed]",
      "text/plain": [
       "<Figure size 640x480 with 1 Axes>"
      ]
     },
     "metadata": {},
     "output_type": "display_data"
    }
   ],
   "source": [
    "data = pd.DataFrame(sample_2021)\n",
    "data.boxplot(color = \"black\", vert=False)\n",
    "plt.title(\"sample_2021\")\n",
    "data.quantile([0.25, 0.5, 0.75])"
   ]
  },
  {
   "cell_type": "markdown",
   "metadata": {},
   "source": [
    "## 4. Проверить распределение, используя тест Шапиро-Уилка"
   ]
  },
  {
   "cell_type": "code",
   "execution_count": 144,
   "metadata": {},
   "outputs": [
    {
     "name": "stdout",
     "output_type": "stream",
     "text": [
      "Критерий Шапиро-Уилка за 2005 год: ShapiroResult(statistic=0.9179561138153076, pvalue=0.49076342582702637) - Принимамем\n",
      "Критерий Шапиро-Уилка за 2010 год: ShapiroResult(statistic=0.7950210571289062, pvalue=0.03655914589762688) - Принимамем\n",
      "Критерий Шапиро-Уилка за 2015 год: ShapiroResult(statistic=0.8571082353591919, pvalue=0.14259696006774902) - Принимамем\n",
      "Критерий Шапиро-Уилка за 2019 год: ShapiroResult(statistic=0.8571082353591919, pvalue=0.14259696006774902) - Принимамем\n",
      "Критерий Шапиро-Уилка за 2020 год: ShapiroResult(statistic=0.8470883369445801, pvalue=0.11556998640298843) - Принимамем\n",
      "Критерий Шапиро-Уилка за 2021 год: ShapiroResult(statistic=0.8541757464408875, pvalue=0.13415086269378662) - Принимамем\n"
     ]
    }
   ],
   "source": [
    "alpha = 0.015\n",
    "res = stats.shapiro(sample_2005)\n",
    "print(f'Критерий Шапиро-Уилка за 2005 год: {res} - {\"Принимамем\" if res[1]>alpha else \"Отвергаем\"}')\n",
    "res = stats.shapiro(sample_2010)\n",
    "print(f'Критерий Шапиро-Уилка за 2010 год: {res} - {\"Принимамем\" if res[1]>alpha else \"Отвергаем\"}')\n",
    "res = stats.shapiro(sample_2015)\n",
    "print(f'Критерий Шапиро-Уилка за 2015 год: {res} - {\"Принимамем\" if res[1]>alpha else \"Отвергаем\"}')\n",
    "res = stats.shapiro(sample_2015)\n",
    "print(f'Критерий Шапиро-Уилка за 2019 год: {res} - {\"Принимамем\" if res[1]>alpha else \"Отвергаем\"}')\n",
    "res = stats.shapiro(sample_2020)\n",
    "print(f'Критерий Шапиро-Уилка за 2020 год: {res} - {\"Принимамем\" if res[1]>alpha else \"Отвергаем\"}')\n",
    "res = stats.shapiro(sample_2021)\n",
    "print(f'Критерий Шапиро-Уилка за 2021 год: {res} - {\"Принимамем\" if res[1]>alpha else \"Отвергаем\"}')"
   ]
  },
  {
   "cell_type": "markdown",
   "metadata": {},
   "source": [
    "## 5. Выделить года с одниковой дисперсией через тесты Бартлетта и Левена"
   ]
  },
  {
   "cell_type": "code",
   "execution_count": 149,
   "metadata": {},
   "outputs": [
    {
     "name": "stdout",
     "output_type": "stream",
     "text": [
      "BartlettResult(statistic=0.6061393282724316, pvalue=0.9877204255679917) - Принимамем\n"
     ]
    }
   ],
   "source": [
    "res = stats.bartlett(sample_2005, sample_2010, sample_2015, sample_2019, sample_2020, sample_2021)\n",
    "print(f'{res} - {\"Принимамем\" if res[1]>alpha else \"Отвергаем\"}')"
   ]
  },
  {
   "cell_type": "code",
   "execution_count": 150,
   "metadata": {},
   "outputs": [
    {
     "name": "stdout",
     "output_type": "stream",
     "text": [
      "LeveneResult(statistic=0.11943801368568971, pvalue=0.9872074575450451) - Принимамем\n"
     ]
    }
   ],
   "source": [
    "res = stats.levene(sample_2005, sample_2010, sample_2015, sample_2019, sample_2020, sample_2021)\n",
    "print(f'{res} - {\"Принимамем\" if res[1]>alpha else \"Отвергаем\"}')"
   ]
  },
  {
   "cell_type": "markdown",
   "metadata": {},
   "source": [
    "## 6. Проверить, можно ли считать значение общероссийского показателя значимо выше\\ниже значения по федеральному округу с помощью t-теста"
   ]
  },
  {
   "cell_type": "code",
   "execution_count": 159,
   "metadata": {},
   "outputs": [
    {
     "data": {
      "text/html": [
       "<div>\n",
       "<style scoped>\n",
       "    .dataframe tbody tr th:only-of-type {\n",
       "        vertical-align: middle;\n",
       "    }\n",
       "\n",
       "    .dataframe tbody tr th {\n",
       "        vertical-align: top;\n",
       "    }\n",
       "\n",
       "    .dataframe thead th {\n",
       "        text-align: right;\n",
       "    }\n",
       "</style>\n",
       "<table border=\"1\" class=\"dataframe\">\n",
       "  <thead>\n",
       "    <tr style=\"text-align: right;\">\n",
       "      <th></th>\n",
       "      <th>Итог</th>\n",
       "      <th>2005</th>\n",
       "      <th>2010</th>\n",
       "      <th>2015</th>\n",
       "      <th>2019</th>\n",
       "      <th>2020</th>\n",
       "      <th>2021</th>\n",
       "    </tr>\n",
       "  </thead>\n",
       "  <tbody>\n",
       "    <tr>\n",
       "      <th>0</th>\n",
       "      <td>Российская Федерация</td>\n",
       "      <td>48.6</td>\n",
       "      <td>50.1</td>\n",
       "      <td>45.9</td>\n",
       "      <td>48.7</td>\n",
       "      <td>50.4</td>\n",
       "      <td>51.0</td>\n",
       "    </tr>\n",
       "    <tr>\n",
       "      <th>1</th>\n",
       "      <td>Центральный федеральный округ</td>\n",
       "      <td>50.9</td>\n",
       "      <td>53.5</td>\n",
       "      <td>46.1</td>\n",
       "      <td>49.6</td>\n",
       "      <td>53.6</td>\n",
       "      <td>54.8</td>\n",
       "    </tr>\n",
       "  </tbody>\n",
       "</table>\n",
       "</div>"
      ],
      "text/plain": [
       "                            Итог  2005  2010  2015  2019  2020  2021\n",
       "0           Российская Федерация  48.6  50.1  45.9  48.7  50.4  51.0\n",
       "1  Центральный федеральный округ  50.9  53.5  46.1  49.6  53.6  54.8"
      ]
     },
     "execution_count": 159,
     "metadata": {},
     "output_type": "execute_result"
    }
   ],
   "source": [
    "sample_avg = pd.read_excel(\"example/CHISLO_DOCTORS.xlsx\", sheet_name=\"ITOG\")\n",
    "sample_avg"
   ]
  },
  {
   "cell_type": "code",
   "execution_count": 160,
   "metadata": {},
   "outputs": [
    {
     "data": {
      "text/html": [
       "<div>\n",
       "<style scoped>\n",
       "    .dataframe tbody tr th:only-of-type {\n",
       "        vertical-align: middle;\n",
       "    }\n",
       "\n",
       "    .dataframe tbody tr th {\n",
       "        vertical-align: top;\n",
       "    }\n",
       "\n",
       "    .dataframe thead th {\n",
       "        text-align: right;\n",
       "    }\n",
       "</style>\n",
       "<table border=\"1\" class=\"dataframe\">\n",
       "  <thead>\n",
       "    <tr style=\"text-align: right;\">\n",
       "      <th></th>\n",
       "      <th>Итог</th>\n",
       "      <th>2005</th>\n",
       "      <th>2010</th>\n",
       "      <th>2015</th>\n",
       "      <th>2019</th>\n",
       "      <th>2020</th>\n",
       "      <th>2021</th>\n",
       "    </tr>\n",
       "  </thead>\n",
       "  <tbody>\n",
       "    <tr>\n",
       "      <th>0</th>\n",
       "      <td>Российская Федерация</td>\n",
       "      <td>48.6</td>\n",
       "      <td>50.1</td>\n",
       "      <td>45.9</td>\n",
       "      <td>48.7</td>\n",
       "      <td>50.4</td>\n",
       "      <td>51.0</td>\n",
       "    </tr>\n",
       "  </tbody>\n",
       "</table>\n",
       "</div>"
      ],
      "text/plain": [
       "                   Итог  2005  2010  2015  2019  2020  2021\n",
       "0  Российская Федерация  48.6  50.1  45.9  48.7  50.4  51.0"
      ]
     },
     "execution_count": 160,
     "metadata": {},
     "output_type": "execute_result"
    }
   ],
   "source": [
    "sample_avg = sample_avg.iloc[0:1]\n",
    "sample_avg"
   ]
  },
  {
   "cell_type": "code",
   "execution_count": 180,
   "metadata": {},
   "outputs": [
    {
     "name": "stdout",
     "output_type": "stream",
     "text": [
      "Мат. ожидание за 2005 год _ и за 2005 по РФ 48.6\n",
      "Мат. ожидание за 2010 год _ и за 2010 по РФ 50.1\n",
      "Мат. ожидание за 2015 год _ и за 2015 по РФ 45.9\n",
      "Мат. ожидание за 2019 год _ и за 2019 по РФ 48.7\n",
      "Мат. ожидание за 2020 год _ и за 2020 по РФ 50.4\n",
      "Мат. ожидание за 2021 год _ и за 2021 по РФ 51.0\n"
     ]
    }
   ],
   "source": [
    "for i in sample_avg.head():\n",
    "    if i != \"Итог\":\n",
    "        print(f\"Мат. ожидание за {i} год _ и за {i} по РФ {sample_avg[i][0]}\")"
   ]
  },
  {
   "cell_type": "code",
   "execution_count": 172,
   "metadata": {},
   "outputs": [
    {
     "name": "stdout",
     "output_type": "stream",
     "text": [
      "48.6\n"
     ]
    }
   ],
   "source": [
    "sample_2005_avg = float(sample_avg[2005][0])\n",
    "print((float(sample_2005_avg)))"
   ]
  },
  {
   "cell_type": "code",
   "execution_count": 189,
   "metadata": {},
   "outputs": [],
   "source": [
    "sample_2005_avg = float(sample_avg[2005][0])\n",
    "sample_2010_avg = float(sample_avg[2010][0])\n",
    "sample_2015_avg = float(sample_avg[2015][0])\n",
    "sample_2019_avg = float(sample_avg[2019][0])\n",
    "sample_2020_avg = float(sample_avg[2020][0])\n",
    "sample_2021_avg = float(sample_avg[2021][0])"
   ]
  },
  {
   "cell_type": "code",
   "execution_count": 185,
   "metadata": {},
   "outputs": [
    {
     "name": "stdout",
     "output_type": "stream",
     "text": [
      "Мат. ожидание за 2005 год: 42.1 и за 2005 по РФ: 48.6\n",
      "Мат. ожидание за 2010 год: 41.228571428571435 и за 2010 по РФ: 50.1\n",
      "Мат. ожидание за 2015 год: 41.642857142857146 и за 2015 по РФ: 45.9\n",
      "Мат. ожидание за 2019 год: 45.15714285714285 и за 2019 по РФ: 48.7\n",
      "Мат. ожидание за 2020 год: 46.38571428571429 и за 2020 по РФ: 50.4\n",
      "Мат. ожидание за 2021 год: 46.3 и за 2021 по РФ: 51.0\n"
     ]
    }
   ],
   "source": [
    "print(f\"Мат. ожидание за 2005 год: {np.mean(sample_2005)} и за 2005 по РФ: {sample_2005_avg}\")\n",
    "print(f\"Мат. ожидание за 2010 год: {np.mean(sample_2010)} и за 2010 по РФ: {sample_2010_avg}\")\n",
    "print(f\"Мат. ожидание за 2015 год: {np.mean(sample_2015)} и за 2015 по РФ: {sample_2015_avg}\")\n",
    "print(f\"Мат. ожидание за 2019 год: {np.mean(sample_2019)} и за 2019 по РФ: {sample_2019_avg}\")\n",
    "print(f\"Мат. ожидание за 2020 год: {np.mean(sample_2020)} и за 2020 по РФ: {sample_2020_avg}\")\n",
    "print(f\"Мат. ожидание за 2021 год: {np.mean(sample_2021)} и за 2021 по РФ: {sample_2021_avg}\")"
   ]
  },
  {
   "cell_type": "code",
   "execution_count": 188,
   "metadata": {},
   "outputs": [
    {
     "name": "stdout",
     "output_type": "stream",
     "text": [
      "2005: TtestResult(statistic=-1.1744388414805496, pvalue=0.14655193626471363, df=5) - Принимамем\n",
      "2010: TtestResult(statistic=-1.6741991159968834, pvalue=0.07255735632611818, df=6) - Принимамем\n",
      "2015: TtestResult(statistic=-0.9890040118109259, pvalue=0.18042601600982752, df=6) - Принимамем\n",
      "2019: TtestResult(statistic=-0.8064369047398561, pvalue=0.22538199293269373, df=6) - Принимамем\n",
      "2020: TtestResult(statistic=-0.9188880100598813, pvalue=0.19679730288881364, df=6) - Принимамем\n",
      "2021: TtestResult(statistic=-1.1480175091761795, pvalue=0.14733224871560868, df=6) - Принимамем\n"
     ]
    }
   ],
   "source": [
    "result = stats.ttest_1samp(sample_2005, sample_2005_avg, alternative='less')\n",
    "print(f'2005: {result} - {\"Принимамем\" if result[1]>alpha else \"Отвергаем\"}')\n",
    "result = stats.ttest_1samp(sample_2010, sample_2010_avg, alternative='less')\n",
    "print(f'2010: {result} - {\"Принимамем\" if result[1]>alpha else \"Отвергаем\"}')\n",
    "result = stats.ttest_1samp(sample_2015, sample_2015_avg, alternative='less')\n",
    "print(f'2015: {result} - {\"Принимамем\" if result[1]>alpha else \"Отвергаем\"}')\n",
    "result = stats.ttest_1samp(sample_2019, sample_2019_avg, alternative='less')\n",
    "print(f'2019: {result} - {\"Принимамем\" if result[1]>alpha else \"Отвергаем\"}')\n",
    "result = stats.ttest_1samp(sample_2020, sample_2020_avg, alternative='less')\n",
    "print(f'2020: {result} - {\"Принимамем\" if result[1]>alpha else \"Отвергаем\"}')\n",
    "result = stats.ttest_1samp(sample_2021, sample_2021_avg, alternative='less')\n",
    "print(f'2021: {result} - {\"Принимамем\" if result[1]>alpha else \"Отвергаем\"}')"
   ]
  },
  {
   "cell_type": "markdown",
   "metadata": {},
   "source": [
    "## 7. Проверить, можно ли считать, что различия между средними значениями незначимыми"
   ]
  },
  {
   "cell_type": "code",
   "execution_count": null,
   "metadata": {},
   "outputs": [],
   "source": [
    "result = sts.ttest_ind_from_stats(mean1=np.mean(sample_2005), std1=np.var(sample_2005, ddof=1), nobs1=7, mean2=np.mean(sample_2010), std2=S_2010, nobs2=8)\n",
    "print(f'2005, 2010: {result}')\n",
    "result = sts.ttest_ind_from_stats(mean1=mean_2005, std1=S_2005, nobs1=7, mean2=mean_2015, std2=S_2015, nobs2=8)\n",
    "print(f'2005, 2015: {result}')\n",
    "result = sts.ttest_ind_from_stats(mean1=mean_2005, std1=S_2005, nobs1=7, mean2=mean_2019, std2=S_2019, nobs2=8)\n",
    "print(f'2005, 2019: {result}')\n",
    "result = sts.ttest_ind_from_stats(mean1=mean_2005, std1=S_2005, nobs1=7, mean2=mean_2020, std2=S_2020, nobs2=8)\n",
    "print(f'2005, 2020: {result}')\n",
    "result = sts.ttest_ind_from_stats(mean1=mean_2015, std1=S_2015, nobs1=7, mean2=mean_2021, std2=S_2021, nobs2=8)\n",
    "print(f'2005, 2021: {result}')"
   ]
  },
  {
   "cell_type": "code",
   "execution_count": null,
   "metadata": {},
   "outputs": [],
   "source": [
    "result = sts.ttest_ind_from_stats(mean1=mean_2010, std1=S_2010, nobs1=8, mean2=mean_2005, std2=S_2005, nobs2=7)\n",
    "print(f'2010, 2005: {result}')\n",
    "result = sts.ttest_ind_from_stats(mean1=mean_2010, std1=S_2010, nobs1=8, mean2=mean_2015, std2=S_2015, nobs2=8)\n",
    "print(f'2010, 2015: {result}')\n",
    "result = sts.ttest_ind_from_stats(mean1=mean_2010, std1=S_2010, nobs1=8, mean2=mean_2019, std2=S_2019, nobs2=8)\n",
    "print(f'2010, 2019: {result}')\n",
    "result = sts.ttest_ind_from_stats(mean1=mean_2010, std1=S_2010, nobs1=8, mean2=mean_2020, std2=S_2020, nobs2=8)\n",
    "print(f'2010, 2020: {result}')\n",
    "result = sts.ttest_ind_from_stats(mean1=mean_2010, std1=S_2010, nobs1=8, mean2=mean_2021, std2=S_2021, nobs2=8)\n",
    "print(f'2010, 2021: {result}')"
   ]
  },
  {
   "cell_type": "code",
   "execution_count": null,
   "metadata": {},
   "outputs": [],
   "source": [
    "result = sts.ttest_ind_from_stats(mean1=mean_2015, std1=S_2015, nobs1=8, mean2=mean_2005, std2=S_2005, nobs2=7)\n",
    "print(f'2015, 2005: {result}')\n",
    "result = sts.ttest_ind_from_stats(mean1=mean_2015, std1=S_2015, nobs1=8, mean2=mean_2010, std2=S_2010, nobs2=8)\n",
    "print(f'2015, 2010: {result}')\n",
    "result = sts.ttest_ind_from_stats(mean1=mean_2015, std1=S_2015, nobs1=8, mean2=mean_2019, std2=S_2019, nobs2=8)\n",
    "print(f'2015, 2019: {result}')\n",
    "result = sts.ttest_ind_from_stats(mean1=mean_2015, std1=S_2015, nobs1=8, mean2=mean_2020, std2=S_2020, nobs2=8)\n",
    "print(f'2015, 2020: {result}')\n",
    "result = sts.ttest_ind_from_stats(mean1=mean_2015, std1=S_2015, nobs1=8, mean2=mean_2021, std2=S_2021, nobs2=8)\n",
    "print(f'2015, 2021: {result}')"
   ]
  },
  {
   "cell_type": "code",
   "execution_count": null,
   "metadata": {},
   "outputs": [],
   "source": [
    "result = sts.ttest_ind_from_stats(mean1=mean_2019, std1=S_2019, nobs1=8, mean2=mean_2005, std2=S_2005, nobs2=7)\n",
    "print(f'2019, 2005: {result}')\n",
    "result = sts.ttest_ind_from_stats(mean1=mean_2019, std1=S_2019, nobs1=8, mean2=mean_2010, std2=S_2010, nobs2=8)\n",
    "print(f'2019, 2010: {result}')\n",
    "result = sts.ttest_ind_from_stats(mean1=mean_2019, std1=S_2019, nobs1=8, mean2=mean_2015, std2=S_2015, nobs2=8)\n",
    "print(f'2019, 2015: {result}')\n",
    "result = sts.ttest_ind_from_stats(mean1=mean_2019, std1=S_2019, nobs1=8, mean2=mean_2020, std2=S_2020, nobs2=8)\n",
    "print(f'2019, 2020: {result}')\n",
    "result = sts.ttest_ind_from_stats(mean1=mean_2019, std1=S_2019, nobs1=8, mean2=mean_2021, std2=S_2021, nobs2=8)\n",
    "print(f'2019, 2021: {result}')"
   ]
  },
  {
   "cell_type": "code",
   "execution_count": null,
   "metadata": {},
   "outputs": [],
   "source": [
    "result = sts.ttest_ind_from_stats(mean1=mean_2020, std1=S_2020, nobs1=8, mean2=mean_2005, std2=S_2005, nobs2=7)\n",
    "print(f'2020, 2005: {result}')\n",
    "result = sts.ttest_ind_from_stats(mean1=mean_2020, std1=S_2020, nobs1=8, mean2=mean_2010, std2=S_2010, nobs2=8)\n",
    "print(f'2020, 2010: {result}')\n",
    "result = sts.ttest_ind_from_stats(mean1=mean_2020, std1=S_2020, nobs1=8, mean2=mean_2015, std2=S_2015, nobs2=8)\n",
    "print(f'2020, 2015: {result}')\n",
    "result = sts.ttest_ind_from_stats(mean1=mean_2020, std1=S_2020, nobs1=8, mean2=mean_2019, std2=S_2019, nobs2=8)\n",
    "print(f'2020, 2019: {result}')\n",
    "result = sts.ttest_ind_from_stats(mean1=mean_2020, std1=S_2020, nobs1=8, mean2=mean_2021, std2=S_2021, nobs2=8)\n",
    "print(f'2020, 2021: {result}')"
   ]
  },
  {
   "cell_type": "code",
   "execution_count": null,
   "metadata": {},
   "outputs": [],
   "source": [
    "result = sts.ttest_ind_from_stats(mean1=mean_2021, std1=S_2021, nobs1=8, mean2=mean_2005, std2=S_2005, nobs2=7)\n",
    "print(f'2021, 2005: {result}')\n",
    "result = sts.ttest_ind_from_stats(mean1=mean_2021, std1=S_2021, nobs1=8, mean2=mean_2010, std2=S_2010, nobs2=8)\n",
    "print(f'2021, 2010: {result}')\n",
    "result = sts.ttest_ind_from_stats(mean1=mean_2021, std1=S_2021, nobs1=8, mean2=mean_2015, std2=S_2015, nobs2=8)\n",
    "print(f'2021, 2015: {result}')\n",
    "result = sts.ttest_ind_from_stats(mean1=mean_2021, std1=S_2021, nobs1=8, mean2=mean_2019, std2=S_2019, nobs2=8)\n",
    "print(f'2021, 2019: {result}')\n",
    "result = sts.ttest_ind_from_stats(mean1=mean_2021, std1=S_2021, nobs1=8, mean2=mean_2020, std2=S_2020, nobs2=8)\n",
    "print(f'2021, 2020: {result}')"
   ]
  }
 ],
 "metadata": {
  "kernelspec": {
   "display_name": ".venv",
   "language": "python",
   "name": "python3"
  },
  "language_info": {
   "codemirror_mode": {
    "name": "ipython",
    "version": 3
   },
   "file_extension": ".py",
   "mimetype": "text/x-python",
   "name": "python",
   "nbconvert_exporter": "python",
   "pygments_lexer": "ipython3",
   "version": "3.10.7"
  }
 },
 "nbformat": 4,
 "nbformat_minor": 2
}
