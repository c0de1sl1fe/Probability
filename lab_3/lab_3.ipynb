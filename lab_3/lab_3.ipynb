{
 "cells": [
  {
   "cell_type": "markdown",
   "metadata": {},
   "source": [
    "| Var | Федеральный округ | $$alpha $$ | M | $$(a, \\sigma^2)$$ | n | Закон распределения св |\n",
    "| --- | --- | --- | --- | --- | --- | --- |\n",
    "| 5 | Северо-Кавказский ФО | 0.0015 | 2700 | (3,1) | 56 | Релея  модой равное 12 |\n",
    "\n"
   ]
  },
  {
   "cell_type": "code",
   "execution_count": 79,
   "metadata": {},
   "outputs": [],
   "source": [
    "# consts\n",
    "alpha = 0.015\n",
    "M = 2700\n",
    "a = -2\n",
    "sigma = 1\n",
    "n = 45\n",
    "moda = 12"
   ]
  },
  {
   "cell_type": "code",
   "execution_count": 80,
   "metadata": {},
   "outputs": [],
   "source": [
    "import math\n",
    "import numpy as np\n",
    "import pandas as pd\n",
    "import matplotlib.pyplot as plt\n",
    "import scipy\n",
    "from scipy import stats \n",
    "from scipy.stats import norm\n",
    "import openpyxl\n",
    "import statistics\n"
   ]
  },
  {
   "cell_type": "markdown",
   "metadata": {},
   "source": [
    "## 2. Визуализировать данные показателя X\n",
    "## 3. Вычислить описательную статистику"
   ]
  },
  {
   "cell_type": "markdown",
   "metadata": {},
   "source": [
    "# Part 1"
   ]
  },
  {
   "cell_type": "markdown",
   "metadata": {},
   "source": [
    "## 1. Найти значения случайного показателя X"
   ]
  },
  {
   "cell_type": "code",
   "execution_count": 81,
   "metadata": {},
   "outputs": [
    {
     "data": {
      "text/html": [
       "<div>\n",
       "<style scoped>\n",
       "    .dataframe tbody tr th:only-of-type {\n",
       "        vertical-align: middle;\n",
       "    }\n",
       "\n",
       "    .dataframe tbody tr th {\n",
       "        vertical-align: top;\n",
       "    }\n",
       "\n",
       "    .dataframe thead th {\n",
       "        text-align: right;\n",
       "    }\n",
       "</style>\n",
       "<table border=\"1\" class=\"dataframe\">\n",
       "  <thead>\n",
       "    <tr style=\"text-align: right;\">\n",
       "      <th></th>\n",
       "      <th>Округ</th>\n",
       "      <th>2005</th>\n",
       "      <th>2010</th>\n",
       "      <th>2015</th>\n",
       "      <th>2019</th>\n",
       "      <th>2020</th>\n",
       "      <th>2021</th>\n",
       "    </tr>\n",
       "  </thead>\n",
       "  <tbody>\n",
       "    <tr>\n",
       "      <th>0</th>\n",
       "      <td>Северо-Кавказский федеральный округ</td>\n",
       "      <td>42.5</td>\n",
       "      <td>40.1</td>\n",
       "      <td>39.5</td>\n",
       "      <td>42.9</td>\n",
       "      <td>44.1</td>\n",
       "      <td>44.1</td>\n",
       "    </tr>\n",
       "    <tr>\n",
       "      <th>1</th>\n",
       "      <td>Республика Дагестан</td>\n",
       "      <td>37.4</td>\n",
       "      <td>39.2</td>\n",
       "      <td>36.7</td>\n",
       "      <td>41.3</td>\n",
       "      <td>41.4</td>\n",
       "      <td>40.9</td>\n",
       "    </tr>\n",
       "    <tr>\n",
       "      <th>2</th>\n",
       "      <td>Республика Ингушетия</td>\n",
       "      <td>27.0</td>\n",
       "      <td>33.8</td>\n",
       "      <td>39.4</td>\n",
       "      <td>44.4</td>\n",
       "      <td>44.7</td>\n",
       "      <td>44.9</td>\n",
       "    </tr>\n",
       "    <tr>\n",
       "      <th>3</th>\n",
       "      <td>Кабардино-Балкарская Республика</td>\n",
       "      <td>44.1</td>\n",
       "      <td>44.0</td>\n",
       "      <td>43.7</td>\n",
       "      <td>46.9</td>\n",
       "      <td>48.1</td>\n",
       "      <td>47.4</td>\n",
       "    </tr>\n",
       "    <tr>\n",
       "      <th>4</th>\n",
       "      <td>Карачаево-Черкесская Республика</td>\n",
       "      <td>33.1</td>\n",
       "      <td>33.0</td>\n",
       "      <td>38.9</td>\n",
       "      <td>41.7</td>\n",
       "      <td>42.3</td>\n",
       "      <td>43.2</td>\n",
       "    </tr>\n",
       "    <tr>\n",
       "      <th>5</th>\n",
       "      <td>Республика Северная Осетия – Алания</td>\n",
       "      <td>66.1</td>\n",
       "      <td>70.8</td>\n",
       "      <td>64.5</td>\n",
       "      <td>68.2</td>\n",
       "      <td>69.9</td>\n",
       "      <td>68.2</td>\n",
       "    </tr>\n",
       "    <tr>\n",
       "      <th>6</th>\n",
       "      <td>Чеченская Республика</td>\n",
       "      <td>NaN</td>\n",
       "      <td>28.3</td>\n",
       "      <td>27.0</td>\n",
       "      <td>29.4</td>\n",
       "      <td>32.2</td>\n",
       "      <td>32.8</td>\n",
       "    </tr>\n",
       "    <tr>\n",
       "      <th>7</th>\n",
       "      <td>Ставропольский край</td>\n",
       "      <td>44.9</td>\n",
       "      <td>39.5</td>\n",
       "      <td>41.3</td>\n",
       "      <td>44.2</td>\n",
       "      <td>46.1</td>\n",
       "      <td>46.7</td>\n",
       "    </tr>\n",
       "  </tbody>\n",
       "</table>\n",
       "</div>"
      ],
      "text/plain": [
       "                                 Округ  2005  2010  2015  2019  2020  2021\n",
       "0  Северо-Кавказский федеральный округ  42.5  40.1  39.5  42.9  44.1  44.1\n",
       "1                  Республика Дагестан  37.4  39.2  36.7  41.3  41.4  40.9\n",
       "2                Республика Ингушетия   27.0  33.8  39.4  44.4  44.7  44.9\n",
       "3      Кабардино-Балкарская Республика  44.1  44.0  43.7  46.9  48.1  47.4\n",
       "4      Карачаево-Черкесская Республика  33.1  33.0  38.9  41.7  42.3  43.2\n",
       "5  Республика Северная Осетия – Алания  66.1  70.8  64.5  68.2  69.9  68.2\n",
       "6                Чеченская Республика    NaN  28.3  27.0  29.4  32.2  32.8\n",
       "7                  Ставропольский край  44.9  39.5  41.3  44.2  46.1  46.7"
      ]
     },
     "execution_count": 81,
     "metadata": {},
     "output_type": "execute_result"
    }
   ],
   "source": [
    "sample = pd.read_excel(\"example/CHISLO_DOCTORS.xlsx\", sheet_name=\"My_data\")\n",
    "sample"
   ]
  },
  {
   "cell_type": "code",
   "execution_count": 92,
   "metadata": {},
   "outputs": [
    {
     "name": "stdout",
     "output_type": "stream",
     "text": [
      "mean: 42.1\n",
      "Median: 40.75\n",
      "S^2: 183.78799999999995\n",
      "max: 66.1 \n",
      "min: 27.0\n"
     ]
    },
    {
     "data": {
      "image/png": "[encoded data removed]",
      "text/plain": [
       "<Figure size 640x480 with 1 Axes>"
      ]
     },
     "metadata": {},
     "output_type": "display_data"
    }
   ],
   "source": [
    "data_2005 = sample.iloc[1:, 1]\n",
    "data_2005 = data_2005[~np.isnan (data_2005)]\n",
    "plt.hist(data_2005, bins=3, edgecolor='black', color=\"cornflowerblue\", alpha=0.7)\n",
    "plt.title(\"2005\")\n",
    "print(f\"mean: {np.mean(data_2005)}\")\n",
    "print(f'Median: {np.median(data_2005)}')\n",
    "print(f\"S^2: {statistics.variance(data_2005)}\")\n",
    "print(f\"max: {np.max(data_2005)} \\nmin: {np.min(data_2005)}\")"
   ]
  },
  {
   "cell_type": "code",
   "execution_count": 93,
   "metadata": {},
   "outputs": [
    {
     "data": {
      "text/html": [
       "<div>\n",
       "<style scoped>\n",
       "    .dataframe tbody tr th:only-of-type {\n",
       "        vertical-align: middle;\n",
       "    }\n",
       "\n",
       "    .dataframe tbody tr th {\n",
       "        vertical-align: top;\n",
       "    }\n",
       "\n",
       "    .dataframe thead th {\n",
       "        text-align: right;\n",
       "    }\n",
       "</style>\n",
       "<table border=\"1\" class=\"dataframe\">\n",
       "  <thead>\n",
       "    <tr style=\"text-align: right;\">\n",
       "      <th></th>\n",
       "      <th>2005</th>\n",
       "    </tr>\n",
       "  </thead>\n",
       "  <tbody>\n",
       "    <tr>\n",
       "      <th>0.25</th>\n",
       "      <td>34.175</td>\n",
       "    </tr>\n",
       "    <tr>\n",
       "      <th>0.50</th>\n",
       "      <td>40.750</td>\n",
       "    </tr>\n",
       "    <tr>\n",
       "      <th>0.75</th>\n",
       "      <td>44.700</td>\n",
       "    </tr>\n",
       "  </tbody>\n",
       "</table>\n",
       "</div>"
      ],
      "text/plain": [
       "        2005\n",
       "0.25  34.175\n",
       "0.50  40.750\n",
       "0.75  44.700"
      ]
     },
     "execution_count": 93,
     "metadata": {},
     "output_type": "execute_result"
    },
    {
     "data": {
      "image/png": "[encoded data removed]",
      "text/plain": [
       "<Figure size 640x480 with 1 Axes>"
      ]
     },
     "metadata": {},
     "output_type": "display_data"
    }
   ],
   "source": [
    "data = pd.DataFrame(data_2005)\n",
    "data.boxplot(color = \"black\", vert=False)\n",
    "plt.title(\"2005\")\n",
    "data.quantile([0.25, 0.5, 0.75])\n"
   ]
  },
  {
   "cell_type": "code",
   "execution_count": null,
   "metadata": {},
   "outputs": [],
   "source": []
  }
 ],
 "metadata": {
  "kernelspec": {
   "display_name": ".venv",
   "language": "python",
   "name": "python3"
  },
  "language_info": {
   "codemirror_mode": {
    "name": "ipython",
    "version": 3
   },
   "file_extension": ".py",
   "mimetype": "text/x-python",
   "name": "python",
   "nbconvert_exporter": "python",
   "pygments_lexer": "ipython3",
   "version": "3.10.7"
  }
 },
 "nbformat": 4,
 "nbformat_minor": 2
}
