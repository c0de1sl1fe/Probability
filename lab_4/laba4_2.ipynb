{
  "cells": [
    {
      "cell_type": "code",
      "execution_count": 6,
      "metadata": {
        "id": "kIvd5JcmWKrY"
      },
      "outputs": [],
      "source": [
        "import pandas as pd\n",
        "import matplotlib.pyplot as plt\n",
        "from sklearn.linear_model import LinearRegression\n",
        "from sklearn.cluster import KMeans\n",
        "from sklearn.feature_selection import f_regression\n",
        "from scipy.stats import shapiro, normaltest\n",
        "import numpy as np\n",
        "import scipy.stats as sts\n",
        "from sklearn.datasets import load_iris\n",
        "from sklearn.manifold import TSNE\n",
        "from sklearn.preprocessing import StandardScaler\n",
        "import os"
      ]
    },
    {
      "cell_type": "markdown",
      "metadata": {
        "id": "_so_HkXTWKrh"
      },
      "source": [
        "### 1 часть"
      ]
    },
    {
      "cell_type": "code",
      "execution_count": 7,
      "metadata": {
        "colab": {
          "base_uri": "https://localhost:8080/",
          "height": 521
        },
        "id": "ggpfXajJWKri",
        "outputId": "481fc9e5-7608-407a-9a77-cbd5488ebee8"
      },
      "outputs": [
        {
          "data": {
            "text/html": [
              "<div>\n",
              "<style scoped>\n",
              "    .dataframe tbody tr th:only-of-type {\n",
              "        vertical-align: middle;\n",
              "    }\n",
              "\n",
              "    .dataframe tbody tr th {\n",
              "        vertical-align: top;\n",
              "    }\n",
              "\n",
              "    .dataframe thead th {\n",
              "        text-align: right;\n",
              "    }\n",
              "</style>\n",
              "<table border=\"1\" class=\"dataframe\">\n",
              "  <thead>\n",
              "    <tr style=\"text-align: right;\">\n",
              "      <th></th>\n",
              "      <th>СТАЖ РАБОТЫ (лет)</th>\n",
              "      <th>ВРЕМЯ, ЗАТРАЧЕННОЕ НА ОБРАЗОВАНИЕ (лет)</th>\n",
              "      <th>ПОЛ (1-жен, 0- муж)</th>\n",
              "      <th>Зарплата (долл. в час)</th>\n",
              "    </tr>\n",
              "  </thead>\n",
              "  <tbody>\n",
              "    <tr>\n",
              "      <th>0</th>\n",
              "      <td>22.384615</td>\n",
              "      <td>12</td>\n",
              "      <td>0</td>\n",
              "      <td>53.410000</td>\n",
              "    </tr>\n",
              "    <tr>\n",
              "      <th>1</th>\n",
              "      <td>8.903846</td>\n",
              "      <td>12</td>\n",
              "      <td>0</td>\n",
              "      <td>8.000000</td>\n",
              "    </tr>\n",
              "    <tr>\n",
              "      <th>2</th>\n",
              "      <td>13.250000</td>\n",
              "      <td>15</td>\n",
              "      <td>0</td>\n",
              "      <td>24.000000</td>\n",
              "    </tr>\n",
              "    <tr>\n",
              "      <th>3</th>\n",
              "      <td>18.250000</td>\n",
              "      <td>13</td>\n",
              "      <td>0</td>\n",
              "      <td>29.500000</td>\n",
              "    </tr>\n",
              "    <tr>\n",
              "      <th>4</th>\n",
              "      <td>13.769231</td>\n",
              "      <td>18</td>\n",
              "      <td>0</td>\n",
              "      <td>32.049999</td>\n",
              "    </tr>\n",
              "    <tr>\n",
              "      <th>...</th>\n",
              "      <td>...</td>\n",
              "      <td>...</td>\n",
              "      <td>...</td>\n",
              "      <td>...</td>\n",
              "    </tr>\n",
              "    <tr>\n",
              "      <th>535</th>\n",
              "      <td>7.307693</td>\n",
              "      <td>12</td>\n",
              "      <td>1</td>\n",
              "      <td>9.500000</td>\n",
              "    </tr>\n",
              "    <tr>\n",
              "      <th>536</th>\n",
              "      <td>19.288462</td>\n",
              "      <td>14</td>\n",
              "      <td>1</td>\n",
              "      <td>17.299999</td>\n",
              "    </tr>\n",
              "    <tr>\n",
              "      <th>537</th>\n",
              "      <td>21.230770</td>\n",
              "      <td>12</td>\n",
              "      <td>1</td>\n",
              "      <td>27.520000</td>\n",
              "    </tr>\n",
              "    <tr>\n",
              "      <th>538</th>\n",
              "      <td>18.076923</td>\n",
              "      <td>13</td>\n",
              "      <td>1</td>\n",
              "      <td>3.880000</td>\n",
              "    </tr>\n",
              "    <tr>\n",
              "      <th>539</th>\n",
              "      <td>18.807692</td>\n",
              "      <td>12</td>\n",
              "      <td>1</td>\n",
              "      <td>11.130000</td>\n",
              "    </tr>\n",
              "  </tbody>\n",
              "</table>\n",
              "<p>540 rows × 4 columns</p>\n",
              "</div>"
            ],
            "text/plain": [
              "     СТАЖ РАБОТЫ (лет)  ВРЕМЯ, ЗАТРАЧЕННОЕ НА ОБРАЗОВАНИЕ (лет)  \\\n",
              "0            22.384615                                       12   \n",
              "1             8.903846                                       12   \n",
              "2            13.250000                                       15   \n",
              "3            18.250000                                       13   \n",
              "4            13.769231                                       18   \n",
              "..                 ...                                      ...   \n",
              "535           7.307693                                       12   \n",
              "536          19.288462                                       14   \n",
              "537          21.230770                                       12   \n",
              "538          18.076923                                       13   \n",
              "539          18.807692                                       12   \n",
              "\n",
              "     ПОЛ (1-жен, 0- муж)  Зарплата (долл. в час)  \n",
              "0                      0               53.410000  \n",
              "1                      0                8.000000  \n",
              "2                      0               24.000000  \n",
              "3                      0               29.500000  \n",
              "4                      0               32.049999  \n",
              "..                   ...                     ...  \n",
              "535                    1                9.500000  \n",
              "536                    1               17.299999  \n",
              "537                    1               27.520000  \n",
              "538                    1                3.880000  \n",
              "539                    1               11.130000  \n",
              "\n",
              "[540 rows x 4 columns]"
            ]
          },
          "execution_count": 7,
          "metadata": {},
          "output_type": "execute_result"
        }
      ],
      "source": [
        "data = pd.read_excel('LAB_4_DATA_2023.xlsx')\n",
        "alpha = 0.02\n",
        "gamma = 0.98\n",
        "N = len(data)\n",
        "data"
      ]
    },
    {
      "cell_type": "markdown",
      "metadata": {
        "id": "ym6gQGbBWKrj"
      },
      "source": [
        "1. Найдите оценки параметров линейной регрессионной модели зависимости ЗАРПЛАТЫ от ВРЕМЕНИ, ЗАТРАЧЕННОГО НА ОБРАЗОВАНИЕ"
      ]
    },
    {
      "cell_type": "code",
      "execution_count": 8,
      "metadata": {
        "colab": {
          "base_uri": "https://localhost:8080/"
        },
        "id": "ylubBApaWKrj",
        "outputId": "10eb8b68-62e8-42fb-af99-8c29bf064ff8"
      },
      "outputs": [
        {
          "name": "stdout",
          "output_type": "stream",
          "text": [
            "Коэффициент детерминации: 0.17249816081531233\n",
            "Пересечение: -13.933465548912451\n",
            "Коэффициент наклона: 2.4553205196847245 \n",
            "\n",
            "Тест Джара-Бера\n",
            "SignificanceResult(statistic=6301.364567320523, pvalue=0.0)\n",
            "Ошибки регрессии имеют НЕ нормальное распределение\n",
            "\n",
            "Тест Д’ Агостино\n",
            "NormaltestResult(statistic=393.2600421543511, pvalue=4.0240824426047195e-86)\n",
            "Ошибки регрессии имеют НЕ нормальное распределение\n"
          ]
        }
      ],
      "source": [
        "X1 = data['ВРЕМЯ, ЗАТРАЧЕННОЕ НА ОБРАЗОВАНИЕ (лет)']  # Извлекаем данные о времени, затраченном на образование\n",
        "Y1 = data['Зарплата (долл. в час)']  # Извлекаем данные о зарплате в долларах в час\n",
        "\n",
        "X1 = np.array(X1)  # Преобразуем в массив NumPy\n",
        "x1 = X1.reshape(len(X1), 1)  # Переформатируем массив для использования в модели\n",
        "\n",
        "model = LinearRegression().fit(x1, Y1)  # Обучаем модель линейной регрессии\n",
        "determ = model.score(x1, Y1)  # Вычисляем коэффициент детерминации\n",
        "print('Коэффициент детерминации:', determ)  # Выводим коэффициент детерминации\n",
        "print('Пересечение:', model.intercept_)  # Выводим коэффициент пересечения (b₀)\n",
        "print('Коэффициент наклона:', model.coef_[0], '\\n')  # Выводим коэффициент наклона (b₁)\n",
        "\n",
        "Y1_predicted = model.predict(x1)  # Прогнозируем значения Y на основе X\n",
        "errors = Y1 - Y1_predicted  # Вычисляем ошибки регрессии\n",
        "\n",
        "# Выполняем тест Жарка-Бера\n",
        "print(\"Тест Джара-Бера\")\n",
        "res_jarq = sts.jarque_bera(errors)\n",
        "print(res_jarq)\n",
        "\n",
        "# Проверка на нормальное распределение\n",
        "if (res_jarq.pvalue > alpha):\n",
        "  print(\"Ошибки регрессии имеют нормальное распределение\\n\")\n",
        "else:\n",
        "  print(\"Ошибки регрессии имеют НЕ нормальное распределение\\n\")\n",
        "\n",
        "print(\"Тест Д’ Агостино\")\n",
        "res_dago = sts.normaltest(errors)\n",
        "print(res_dago)\n",
        "if (res_dago.pvalue > alpha):\n",
        "  print(\"Ошибки регрессии имеют нормальное распределение\")\n",
        "else:\n",
        "  print(\"Ошибки регрессии имеют НЕ нормальное распределение\")"
      ]
    },
    {
      "cell_type": "markdown",
      "metadata": {
        "id": "ik-y_FTjWKrj"
      },
      "source": [
        "### 1.1. Обладает ли модель высокой объясняющей способностью, или же модель низкого качества (F-тест)"
      ]
    },
    {
      "cell_type": "code",
      "execution_count": 97,
      "metadata": {
        "colab": {
          "base_uri": "https://localhost:8080/"
        },
        "id": "uyanyHZPWKrk",
        "outputId": "23d793ab-9658-4fd9-e472-dcf54cd13b3c"
      },
      "outputs": [
        {
          "name": "stdout",
          "output_type": "stream",
          "text": [
            "Посчитанное значение F эмпирическое 112.1496123924933 \n",
            "Значение F кр 5.444284424851508\n",
            "Модель с высокой объясняющей способностью\n"
          ]
        }
      ],
      "source": [
        "df1 = 1\n",
        "df2 = N - 2\n",
        "F_emp = (determ * df2) / ((1 - determ) * df1)  # Эта функция вычисляет значение F-статистики (F_emp), которая используется для оценки значимости регрессионной модели.\n",
        "F_sts = sts.f.ppf(1 - alpha, df1, df2)\n",
        "print(\"Посчитанное значение F эмпирическое\", F_emp, \"\\nЗначение F кр\", F_sts)\n",
        "if F_emp > F_sts:\n",
        "    print(\"Модель с высокой объясняющей способностью\")\n",
        "else:\n",
        "    print(\"Модель низкого качества\")"
      ]
    },
    {
      "cell_type": "markdown",
      "metadata": {
        "id": "l2PEKCLGWKrk"
      },
      "source": [
        "### 2. Найдите оценки параметров линейной регрессионной модели зависимости ЗАРПЛАТЫ от СТАЖА РАБОТЫ, ВРЕМЕНИ, ЗАТРАЧЕННОГО НА ОБРАЗОВАНИЕ, и ПОЛА РАБОТНИКА работника."
      ]
    },
    {
      "cell_type": "code",
      "execution_count": 78,
      "metadata": {
        "colab": {
          "base_uri": "https://localhost:8080/"
        },
        "id": "NNX1H389WKrk",
        "outputId": "6b543c80-8607-445f-99e2-6c6643cba6b3"
      },
      "outputs": [
        {
          "name": "stdout",
          "output_type": "stream",
          "text": [
            "                              OLS Regression Results                              \n",
            "==================================================================================\n",
            "Dep. Variable:     Зарплата (долл. в час)   R-squared:                       0.241\n",
            "Model:                                OLS   Adj. R-squared:                  0.237\n",
            "Method:                     Least Squares   F-statistic:                     56.68\n",
            "Date:                    Mon, 18 Dec 2023   Prob (F-statistic):           7.74e-32\n",
            "Time:                            11:15:19   Log-Likelihood:                -2132.2\n",
            "No. Observations:                     540   AIC:                             4272.\n",
            "Df Residuals:                         536   BIC:                             4290.\n",
            "Df Model:                               3                                         \n",
            "Covariance Type:                nonrobust                                         \n",
            "===========================================================================================================\n",
            "                                              coef    std err          t      P>|t|      [0.025      0.975]\n",
            "-----------------------------------------------------------------------------------------------------------\n",
            "const                                     -19.6919      4.361     -4.516      0.000     -28.258     -11.126\n",
            "СТАЖ РАБОТЫ (лет)                           0.4057      0.129      3.149      0.002       0.153       0.659\n",
            "ВРЕМЯ, ЗАТРАЧЕННОЕ НА ОБРАЗОВАНИЕ (лет)     2.5911      0.229     11.337      0.000       2.142       3.040\n",
            "ПОЛ (1-жен, 0- муж)                        -5.9091      1.114     -5.304      0.000      -8.097      -3.721\n",
            "==============================================================================\n",
            "Omnibus:                      404.752   Durbin-Watson:                   1.896\n",
            "Prob(Omnibus):                  0.000   Jarque-Bera (JB):             7226.889\n",
            "Skew:                           3.140   Prob(JB):                         0.00\n",
            "Kurtosis:                      19.785   Cond. No.                         178.\n",
            "==============================================================================\n",
            "\n",
            "Notes:\n",
            "[1] Standard Errors assume that the covariance matrix of the errors is correctly specified.\n"
          ]
        }
      ],
      "source": [
        "X2 = data[['СТАЖ РАБОТЫ (лет)', 'ВРЕМЯ, ЗАТРАЧЕННОЕ НА ОБРАЗОВАНИЕ (лет)', 'ПОЛ (1-жен, 0- муж)']]  # Выбираем независимые переменные\n",
        "Y2 = data['Зарплата (долл. в час)']  # Выбираем зависимую переменную\n",
        "x2 = sm.add_constant(X2)  # Добавляем столбец с постоянным значением к независимым переменным\n",
        "\n",
        "model2 = sm.OLS(Y2, x2)  # Создаем модель МНК (метод наименьших квадратов)\n",
        "results = model2.fit()  # Обучаем модель и получаем результаты\n",
        "\n",
        "print(results.summary())  # Выводим сводку результатов модели"
      ]
    },
    {
      "cell_type": "code",
      "execution_count": 79,
      "metadata": {
        "colab": {
          "base_uri": "https://localhost:8080/"
        },
        "id": "jRTcPqMvWKrl",
        "outputId": "b6c969a3-4e22-47d1-d0e4-3c542fc24225"
      },
      "outputs": [
        {
          "name": "stdout",
          "output_type": "stream",
          "text": [
            "Коэффициент детерминации: 0.240848367627299\n",
            "Пересечение: -19.691947095344982\n",
            "Коэффициент наклона:\n",
            " СТАЖ РАБОТЫ (лет)                          0.405677\n",
            "ВРЕМЯ, ЗАТРАЧЕННОЕ НА ОБРАЗОВАНИЕ (лет)    2.591137\n",
            "ПОЛ (1-жен, 0- муж)                       -5.909050\n",
            "dtype: float64\n"
          ]
        }
      ],
      "source": [
        "print('Коэффициент детерминации:', results.rsquared)\n",
        "print('Пересечение:', results.params[0]) # b0\n",
        "print('Коэффициент наклона:\\n', results.params[1:]) # b1, b2, b3"
      ]
    },
    {
      "cell_type": "code",
      "execution_count": 80,
      "metadata": {
        "colab": {
          "base_uri": "https://localhost:8080/"
        },
        "id": "nyv759V9WKrl",
        "outputId": "bf554eaf-b383-43b7-8e1a-fdb91d495cac"
      },
      "outputs": [
        {
          "name": "stdout",
          "output_type": "stream",
          "text": [
            "[ True  True  True  True  True  True  True  True  True  True  True  True\n",
            "  True  True  True  True  True  True  True  True  True  True  True  True\n",
            "  True  True  True  True  True  True  True  True  True  True  True  True\n",
            "  True  True  True  True  True  True  True  True  True  True  True  True\n",
            "  True  True  True  True  True  True  True  True  True  True  True  True\n",
            "  True  True  True  True  True  True  True  True  True  True  True  True\n",
            "  True  True  True  True  True  True  True  True  True  True  True  True\n",
            "  True  True  True  True  True  True  True  True  True  True  True  True\n",
            "  True  True  True  True  True  True  True  True  True  True  True  True\n",
            "  True  True  True  True  True  True  True  True  True  True  True  True\n",
            "  True  True  True  True  True  True  True  True  True  True  True  True\n",
            "  True  True  True  True  True  True  True  True  True  True  True  True\n",
            "  True  True  True  True  True  True  True  True  True  True  True  True\n",
            "  True  True  True  True  True  True  True  True  True  True  True  True\n",
            "  True  True  True  True  True  True  True  True  True  True  True  True\n",
            "  True  True  True  True  True  True  True  True  True  True  True  True\n",
            "  True  True  True  True  True  True  True  True  True  True  True  True\n",
            "  True  True  True  True  True  True  True  True  True  True  True  True\n",
            "  True  True  True  True  True  True  True  True  True  True  True  True\n",
            "  True  True  True  True  True  True  True  True  True  True  True  True\n",
            "  True  True  True  True  True  True  True  True  True  True  True  True\n",
            "  True  True  True  True  True  True  True  True  True  True  True  True\n",
            "  True  True  True  True  True  True  True  True  True  True  True  True\n",
            "  True  True  True  True  True  True  True  True  True  True  True  True\n",
            "  True  True  True  True  True  True  True  True  True  True  True  True\n",
            "  True  True  True  True  True  True  True  True  True  True  True  True\n",
            "  True  True  True  True  True  True  True  True  True  True  True  True\n",
            "  True  True  True  True  True  True  True  True  True  True  True  True\n",
            "  True  True  True  True  True  True  True  True  True  True  True  True\n",
            "  True  True  True  True  True  True  True  True  True  True  True  True\n",
            "  True  True  True  True  True  True  True  True  True  True  True  True\n",
            "  True  True  True  True  True  True  True  True  True  True  True  True\n",
            "  True  True  True  True  True  True  True  True  True  True  True  True\n",
            "  True  True  True  True  True  True  True  True  True  True  True  True\n",
            "  True  True  True  True  True  True  True  True  True  True  True  True\n",
            "  True  True  True  True  True  True  True  True  True  True  True  True\n",
            "  True  True  True  True  True  True  True  True  True  True  True  True\n",
            "  True  True  True  True  True  True  True  True  True  True  True  True\n",
            "  True  True  True  True  True  True  True  True  True  True  True  True\n",
            "  True  True  True  True  True  True  True  True  True  True  True  True\n",
            "  True  True  True  True  True  True  True  True  True  True  True  True\n",
            "  True  True  True  True  True  True  True  True  True  True  True  True\n",
            "  True  True  True  True  True  True  True  True  True  True  True  True\n",
            "  True  True  True  True  True  True  True  True  True  True  True  True\n",
            "  True  True  True  True  True  True  True  True  True  True  True  True]\n"
          ]
        }
      ],
      "source": [
        "b = results.params  # Получаем параметры модели\n",
        "X0_ = data['СТАЖ РАБОТЫ (лет)']  # Извлекаем данные о стаже работы\n",
        "X1_ = data['ВРЕМЯ, ЗАТРАЧЕННОЕ НА ОБРАЗОВАНИЕ (лет)']  # Извлекаем данные о времени, затраченном на образование\n",
        "X2_ = data['ПОЛ (1-жен, 0- муж)']  # Извлекаем данные о поле (1-жен, 0- муж)\n",
        "\n",
        "x0 = np.array(X0_)  # Преобразуем данные стажа работы в массив NumPy\n",
        "x1 = np.array(X1_)  # Преобразуем данные о времени, затраченном на образование в массив NumPy\n",
        "x2 = np.array(X2_)  # Преобразуем данные о поле в массив NumPy\n",
        "\n",
        "XXX = [x0, x1, x2]  # Собираем данные о независимых переменных в массив\n",
        "XXX = np.array(XXX)  # Преобразуем в массив NumPy\n",
        "x = XXX.transpose()  # Транспонируем массив для дальнейшего использования\n",
        "X = sm.add_constant(x)  # Добавляем столбец с постоянным значением к независимым переменным\n",
        "\n",
        "y_hat = b[0] + b[1] * x0 + b[2] * x1 + b[3] * x2  # Вычисляем предсказанные значения y\n",
        "\n",
        "print(np.isclose(y_hat, results.predict(), atol=1e-4))  # Проверяем, близки ли вычисленные значения y_hat к предсказанным значениям моделью, с учетом заданной погрешности\n"
      ]
    },
    {
      "cell_type": "code",
      "execution_count": 81,
      "metadata": {
        "colab": {
          "base_uri": "https://localhost:8080/"
        },
        "id": "JkkVaOepWKrl",
        "outputId": "61b9c23e-8767-449c-c51f-ead87481e231"
      },
      "outputs": [
        {
          "name": "stdout",
          "output_type": "stream",
          "text": [
            "Тест Джарка-Бера\n",
            "SignificanceResult(statistic=6301.364567320523, pvalue=0.0)\n",
            "Ошибки регрессии имеют НЕ нормальное распределение\n",
            "\n",
            "Тест Д’ Агостино\n",
            "NormaltestResult(statistic=404.75225464943424, pvalue=1.2857739834290298e-88)\n",
            "Ошибки регрессии имеют НЕ нормальное распределение\n"
          ]
        }
      ],
      "source": [
        "Y2_predicted = results.predict()  # Получаем предсказанные значения зависимой переменной\n",
        "errors2 = Y2 - Y2_predicted  # Вычисляем ошибки регрессии как разность фактических и предсказанных значений\n",
        "\n",
        "# Perform Jarque-Bera test\n",
        "print(\"Тест Джарка-Бера\")\n",
        "res_jarq = sts.jarque_bera(errors)  # Выполняем тест Джарка-Бера для оценки нормальности ошибок регрессии\n",
        "print(res_jarq)  # Выводим результат теста\n",
        "\n",
        "# Проверка на нормальное распределение\n",
        "if (res_jarq.pvalue > alpha):  # Проверяем результат теста\n",
        "  print(\"Ошибки регрессии имеют нормальное распределение\\n\")  # Выводим сообщение, если ошибки имеют нормальное распределение\n",
        "else:\n",
        "  print(\"Ошибки регрессии имеют НЕ нормальное распределение\\n\")  # Выводим сообщение, если ошибки не имеют нормальное распределение\n",
        "\n",
        "print(\"Тест Д’ Агостино\")\n",
        "res_dago = sts.normaltest(errors2)  # Выполняем тест нормальности ошибок регрессии по методу Д’Агостино\n",
        "print(res_dago)  # Выводим результат теста\n",
        "\n",
        "if (res_dago.pvalue > alpha):  # Проверяем результат теста\n",
        "  print(\"Ошибки регрессии имеют нормальное распределение\")  # Выводим сообщение, если ошибки имеют нормальное распределение\n",
        "else:\n",
        "  print(\"Ошибки регрессии имеют НЕ нормальное распределение\")  # Выводим сообщение, если ошибки не имеют нормальное распределение"
      ]
    },
    {
      "cell_type": "markdown",
      "metadata": {
        "id": "wzMFnu4KWKrn"
      },
      "source": [
        "### 2.1. Как в среднем изменится ЗАРПЛАТА, если СТАЖ РАБОТЫ увеличится на 2 года?"
      ]
    },
    {
      "cell_type": "code",
      "execution_count": 82,
      "metadata": {
        "colab": {
          "base_uri": "https://localhost:8080/"
        },
        "id": "Vfe1ukCSWKrn",
        "outputId": "b3b810ec-c291-4213-dcae-41b85b08085c"
      },
      "outputs": [
        {
          "name": "stdout",
          "output_type": "stream",
          "text": [
            "Изменение ЗАРПЛАТЫ при увеличении стажа на 2 года: 0.8113543980273494 \n",
            "\n"
          ]
        }
      ],
      "source": [
        "print(\"Изменение ЗАРПЛАТЫ при увеличении стажа на 2 года:\", results.params['СТАЖ РАБОТЫ (лет)'] * 2, \"\\n\")"
      ]
    },
    {
      "cell_type": "markdown",
      "metadata": {
        "id": "G0lenrOgWKro"
      },
      "source": [
        "### 2.2. Какую в среднем прибавку к ЗАРПЛАТЕ дает дополнительный год обучения?"
      ]
    },
    {
      "cell_type": "code",
      "execution_count": 83,
      "metadata": {
        "colab": {
          "base_uri": "https://localhost:8080/"
        },
        "id": "9rtAYqedWKro",
        "outputId": "d7c77f49-73f5-4002-bd66-69c8adb93d48"
      },
      "outputs": [
        {
          "name": "stdout",
          "output_type": "stream",
          "text": [
            "Прибавка к ЗАРПЛАТЕ за каждый дополнительный год обучения: 2.5911373236744257 \n",
            "\n"
          ]
        }
      ],
      "source": [
        "print(\"Прибавка к ЗАРПЛАТЕ за каждый дополнительный год обучения:\", results.params['ВРЕМЯ, ЗАТРАЧЕННОЕ НА ОБРАЗОВАНИЕ (лет)'], \"\\n\")"
      ]
    },
    {
      "cell_type": "markdown",
      "metadata": {
        "id": "3LnMdiQXWKrl"
      },
      "source": [
        "### 2.3. Проверьте, обладает ли модель из п.3. высокой объясняющей способностью, или же модель низкого качества (Для этого примените F-тест)"
      ]
    },
    {
      "cell_type": "code",
      "execution_count": 84,
      "metadata": {
        "colab": {
          "base_uri": "https://localhost:8080/"
        },
        "id": "5it5vLSeWKrm",
        "outputId": "3e2ec293-7b77-48c0-8b5e-91edad14ca7d"
      },
      "outputs": [
        {
          "name": "stdout",
          "output_type": "stream",
          "text": [
            "Модель обладает высокой объясняющей способностью\n"
          ]
        },
        {
          "data": {
            "text/plain": [
              "(56.68376801296465, 3.3063075320369477)"
            ]
          },
          "execution_count": 84,
          "metadata": {},
          "output_type": "execute_result"
        }
      ],
      "source": [
        "m = 3  # Устанавливаем количество оцениваемых параметров\n",
        "df1 = m  # Задаем число степеней свободы для числителя\n",
        "df2 = N - m - 1  # Задаем число степеней свободы для знаменателя\n",
        "\n",
        "RSS = sum((Y2_predicted - Y2.mean())**2)  # Вычисляем сумму квадратов отклонений предсказанных значений от среднего\n",
        "ESS = sum(errors2**2)  # Вычисляем объясненную сумму квадратов (explained sum of squares)\n",
        "\n",
        "F_emp = RSS * (len(Y2) - m - 1) / (ESS * m)  # Вычисляем значение F-статистики\n",
        "F_sts = sts.f.ppf(1 - alpha, df1, df2)  # Определяем критическое значение F-статистики\n",
        "\n",
        "if (F_emp > F_sts):  # Проводим проверку гипотезы о значимости регрессии с использованием F-критерия\n",
        "  print(\"Модель обладает высокой объясняющей способностью\")  # Выводим сообщение, если модель обладает высокой объясняющей способностью\n",
        "else:\n",
        "  print(\"Модель низкого качества\")  # Выводим сообщение, если модель имеет низкое качество\n",
        "F_emp, F_sts  # Выводим значения F-статистики и критического значения F-статистики"
      ]
    },
    {
      "cell_type": "code",
      "execution_count": 85,
      "metadata": {
        "colab": {
          "base_uri": "https://localhost:8080/"
        },
        "id": "HJ2mRqQoWKrm",
        "outputId": "a12d339d-6ba6-45c9-f415-9d43436f9b0a"
      },
      "outputs": [
        {
          "name": "stdout",
          "output_type": "stream",
          "text": [
            "F-тест: <F test: F=56.683768012964435, p=7.736950333450208e-32, df_denom=536, df_num=3>\n",
            "Принимаем H1\n",
            "Отражает истинную зависимость\n",
            "\n"
          ]
        }
      ],
      "source": [
        "f_test2 = results.f_test(\"СТАЖ РАБОТЫ (лет) = ВРЕМЯ, ЗАТРАЧЕННОЕ НА ОБРАЗОВАНИЕ (лет) = ПОЛ (1-жен, 0- муж) = 0\")  # Выполняем F-тест\n",
        "f_test_sts = sts.f.ppf(1 - alpha, N - m - 1, m)  # Вычисляем критическое значение F-статистики\n",
        "\n",
        "print(f\"F-тест: {f_test2}\")  # Выводим значение F-теста\n",
        "if (f_test2.statistic > f_test_sts):  # Проверяем является ли значение F-теста больше критического значения\n",
        "  print(\"Принимаем H1\")  # Выводим сообщение, если принимается альтернативная гипотеза H1\n",
        "  print(\"Отражает истинную зависимость\\n\")\n",
        "else:\n",
        "  print(\"Принимаем H0\\n\")  # Выводим сообщение, если принимается нулевая гипотеза H0\n"
      ]
    },
    {
      "cell_type": "code",
      "execution_count": 86,
      "metadata": {
        "colab": {
          "base_uri": "https://localhost:8080/"
        },
        "id": "n5WeWyiOWKrm",
        "outputId": "5b8cc475-6298-425b-fe5b-92bfab7e2415"
      },
      "outputs": [
        {
          "name": "stdout",
          "output_type": "stream",
          "text": [
            "H0: b0 = 0\n",
            "H1: b0 не равно 0, следовательно значимо\n",
            "Принимаем H1\n",
            "Отражает истинную зависимость \n"
          ]
        },
        {
          "data": {
            "text/plain": [
              "(-4.5157143868064775, 2.333325054701996)"
            ]
          },
          "execution_count": 86,
          "metadata": {},
          "output_type": "execute_result"
        }
      ],
      "source": [
        "print(\"H0: b0 = 0\")  # Формулируем нулевую гипотезу для коэффициента b0\n",
        "print(\"H1: b0 не равно 0, следовательно значимо\")  # Формулируем альтернативную гипотезу для коэффициента b0\n",
        "Z = X.transpose().dot(X)  # Вычисляем произведение транспонированной матрицы X на матрицу X\n",
        "invZ = np.linalg.matrix_power(Z, -1)  # Вычисляем обратную матрицу к Z\n",
        "s_e_2 = (1/(N - m - 1))*sum(errors2**2)  # Вычисляем оценку стандартной ошибки остатков\n",
        "\n",
        "cob0 = np.sqrt(s_e_2) * np.sqrt(invZ[0, 0])  # Вычисляем оценку стандартной ошибки коэффициента для b0\n",
        "\n",
        "t_emp = b[0] / cob0  # Вычисляем значение t-статистики\n",
        "t_crit = sts.t.ppf(1 - alpha/2, N - m -1)  # Вычисляем критическое значение t-статистики\n",
        "\n",
        "if (abs(t_emp) > t_crit):  # Проводим проверку гипотезы H0 относительно коэффициента b0\n",
        "  print(\"Принимаем H1\")  # Выводим сообщение, если принимается альтернативная гипотеза H1\n",
        "  print(\"Отражает истинную зависимость \")\n",
        "else:\n",
        "  print(\"Принимаем H0\")  # Выводим сообщение, если принимается нулевая гипотеза H0\n",
        "t_emp, t_crit  # Выводим значения t-статистики и критического значения t-статистики"
      ]
    },
    {
      "cell_type": "code",
      "execution_count": 87,
      "metadata": {
        "colab": {
          "base_uri": "https://localhost:8080/"
        },
        "id": "ETLpYDHAWKrm",
        "outputId": "2f758e34-2883-4df0-fe8c-d731df2c28e4"
      },
      "outputs": [
        {
          "name": "stdout",
          "output_type": "stream",
          "text": [
            "H0: b1 = 0\n",
            "H1: b1 не равно 0, следовательно значимо\n",
            "Принимаем H1\n",
            "Отражает истинную зависимость \n"
          ]
        },
        {
          "data": {
            "text/plain": [
              "(3.149182084162151, 2.333325054701996)"
            ]
          },
          "execution_count": 87,
          "metadata": {},
          "output_type": "execute_result"
        }
      ],
      "source": [
        "print(\"H0: b1 = 0\")  # Формулируем нулевую гипотезу для коэффициента b1\n",
        "print(\"H1: b1 не равно 0, следовательно значимо\")  # Формулируем альтернативную гипотезу для коэффициента b1\n",
        "\n",
        "cob1 = np.sqrt(s_e_2) * np.sqrt(invZ[1,1])  # Вычисляем оценку стандартной ошибки коэффициента для b1\n",
        "\n",
        "t_emp = b[1] / cob1  # Вычисляем значение t-статистики для коэффициента b1\n",
        "t_crit = sts.t.ppf(1 - alpha/2, N - m - 1)  # Вычисляем критическое значение t-статистики\n",
        "\n",
        "if (abs(t_emp) > t_crit):  # Проводим проверку гипотезы H0 относительно коэффициента b1\n",
        "  print(\"Принимаем H1\")  # Выводим сообщение, если принимается альтернативная гипотеза H1\n",
        "  print(\"Отражает истинную зависимость \")\n",
        "else:\n",
        "  print(\"Принимаем H0\")  # Выводим сообщение, если принимается нулевая гипотеза H0\n",
        "t_emp, t_crit  # Выводим значения t-статистики и критического значения t-статистики"
      ]
    },
    {
      "cell_type": "code",
      "execution_count": 88,
      "metadata": {
        "colab": {
          "base_uri": "https://localhost:8080/"
        },
        "id": "PXp1KuRsWKrn",
        "outputId": "bff14c78-0de0-4a06-a180-2f78f3f8729d"
      },
      "outputs": [
        {
          "name": "stdout",
          "output_type": "stream",
          "text": [
            "H0: b2 = 0\n",
            "H1: b2 не равно 0, следовательно значимо\n",
            "Принимаем H1\n",
            "Отражает истинную зависимость \n"
          ]
        },
        {
          "data": {
            "text/plain": [
              "(11.33730144066215, 2.333325054701996)"
            ]
          },
          "execution_count": 88,
          "metadata": {},
          "output_type": "execute_result"
        }
      ],
      "source": [
        "print(\"H0: b2 = 0\")  # Формулируем нулевую гипотезу для коэффициента b2\n",
        "print(\"H1: b2 не равно 0, следовательно значимо\")  # Формулируем альтернативную гипотезу для коэффициента b2\n",
        "\n",
        "cob2 = np.sqrt(s_e_2) * np.sqrt(invZ[2,2])  # Вычисляем оценку стандартной ошибки коэффициента для b2\n",
        "\n",
        "t_emp = b[2] / cob2  # Вычисляем значение t-статистики для коэффициента b2\n",
        "t_crit = sts.t.ppf(1 - alpha/2, N - m - 1)  # Вычисляем критическое значение t-статистики\n",
        "\n",
        "if (abs(t_emp) > t_crit):  # Проводим проверку гипотезы H0 относительно коэффициента b2\n",
        "  print(\"Принимаем H1\")  # Выводим сообщение, если принимается альтернативная гипотеза H1\n",
        "  print(\"Отражает истинную зависимость \")\n",
        "else:\n",
        "  print(\"Принимаем H0\")  # Выводим сообщение, если принимается нулевая гипотеза H0\n",
        "t_emp, t_crit  # Выводим значения t-статистики и критического значения t-статистики"
      ]
    },
    {
      "cell_type": "code",
      "execution_count": 89,
      "metadata": {
        "colab": {
          "base_uri": "https://localhost:8080/"
        },
        "id": "JnFPUHtpWKrn",
        "outputId": "ff68d245-4937-4d7b-dcb1-1cebed0a9903"
      },
      "outputs": [
        {
          "name": "stdout",
          "output_type": "stream",
          "text": [
            "H0: b3 = 0\n",
            "H1: b3 не равно 0, следовательно значимо\n",
            "Принимаем H1\n",
            "Отражает истинную зависимость \n"
          ]
        },
        {
          "data": {
            "text/plain": [
              "(-5.304485921474772, 2.333325054701996)"
            ]
          },
          "execution_count": 89,
          "metadata": {},
          "output_type": "execute_result"
        }
      ],
      "source": [
        "print(\"H0: b3 = 0\")  # Формулируем нулевую гипотезу для коэффициента b3\n",
        "print(\"H1: b3 не равно 0, следовательно значимо\")  # Формулируем альтернативную гипотезу для коэффициента b3\n",
        "\n",
        "cob3 = np.sqrt(s_e_2) * np.sqrt(invZ[3,3])  # Вычисляем оценку стандартной ошибки коэффициента для b3\n",
        "\n",
        "t_emp = b[3] / cob3  # Вычисляем значение t-статистики для коэффициента b3\n",
        "t_crit = sts.t.ppf(1 - alpha/2, N - m - 1)  # Вычисляем критическое значение t-статистики\n",
        "\n",
        "if (abs(t_emp) > t_crit):  # Проводим проверку гипотезы H0 относительно коэффициента b3\n",
        "  print(\"Принимаем H1\")  # Выводим сообщение, если принимается альтернативная гипотеза H1\n",
        "  print(\"Отражает истинную зависимость \")\n",
        "else:\n",
        "  print(\"Принимаем H0\")  # Выводим сообщение, если принимается нулевая гипотеза H0\n",
        "t_emp, t_crit  # Выводим значения t-статистики и критического значения t-статистики\n"
      ]
    },
    {
      "cell_type": "markdown",
      "metadata": {
        "id": "kLcxD--0WKro"
      },
      "source": [
        "### 2.4. Значимо ли различаются зарплаты мужчины и женщины при прочих равных условиях (т.е. равных стаже и числу лет, затраченных на образование) ?"
      ]
    },
    {
      "cell_type": "code",
      "execution_count": 90,
      "metadata": {
        "colab": {
          "base_uri": "https://localhost:8080/"
        },
        "id": "3IsJ1G0cWKro",
        "outputId": "463e8953-9cd4-4221-f67f-c2167f5a8551"
      },
      "outputs": [
        {
          "name": "stdout",
          "output_type": "stream",
          "text": [
            "Прирост ЗАРПЛАТЫ для мужчин по сравнению с женщинами: -5.909050234030845\n"
          ]
        }
      ],
      "source": [
        "print(\"Прирост ЗАРПЛАТЫ для мужчин по сравнению с женщинами:\", results.params['ПОЛ (1-жен, 0- муж)'])"
      ]
    },
    {
      "cell_type": "markdown",
      "metadata": {
        "id": "ACfokz-7WKro"
      },
      "source": [
        "2.5. Можно ли считать, что при начислении зарплаты имеет место дискриминация по гендерному признаку?"
      ]
    },
    {
      "cell_type": "code",
      "execution_count": 91,
      "metadata": {
        "colab": {
          "base_uri": "https://localhost:8080/"
        },
        "id": "_DM1yVd4WKro",
        "outputId": "84236523-1046-4818-dda8-2869ac86ac43"
      },
      "outputs": [
        {
          "name": "stdout",
          "output_type": "stream",
          "text": [
            "Так как коэф. b3 имеет значимость => в разности зарплат имеет место дискриминация по гендерному признаку\n"
          ]
        }
      ],
      "source": [
        "print(\"Так как коэф. b3 имеет значимость => в разности зарплат имеет место дискриминация по гендерному признаку\")"
      ]
    }
  ],
  "metadata": {
    "colab": {
      "provenance": []
    },
    "kernelspec": {
      "display_name": "Python 3",
      "language": "python",
      "name": "python3"
    },
    "language_info": {
      "codemirror_mode": {
        "name": "ipython",
        "version": 3
      },
      "file_extension": ".py",
      "mimetype": "text/x-python",
      "name": "python",
      "nbconvert_exporter": "python",
      "pygments_lexer": "ipython3",
      "version": "3.10.7"
    }
  },
  "nbformat": 4,
  "nbformat_minor": 0
}
