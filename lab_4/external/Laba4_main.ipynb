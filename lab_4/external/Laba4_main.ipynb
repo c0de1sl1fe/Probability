{
 "cells": [
  {
   "cell_type": "markdown",
   "metadata": {},
   "source": [
    "Лабораторная работа 4\n",
    "\n",
    "Сахаровой Дарьи, вариант 17\n"
   ]
  },
  {
   "cell_type": "markdown",
   "metadata": {},
   "source": [
    "Z - ПОЛ (1-жен, 0-муж)\n",
    "\n",
    "gamma = 0.98\n",
    "\n",
    "alfa = 0.02\n",
    "\n",
    "пол,a,b = 1,7,11\n",
    "\n",
    "критерии проверки на нормальность - Д-Агостино и Джара-Бэра\n",
    "\n",
    "Признаки кластеризации ирисов - sepal width (cm), petal length (cm)\n"
   ]
  },
  {
   "cell_type": "markdown",
   "metadata": {},
   "source": [
    "ЧАСТЬ 1"
   ]
  },
  {
   "cell_type": "markdown",
   "metadata": {},
   "source": [
    "ЗАДАНИЕ 1"
   ]
  },
  {
   "cell_type": "code",
   "execution_count": 126,
   "metadata": {},
   "outputs": [],
   "source": [
    "import pandas as pd\n",
    "from sklearn.linear_model import LinearRegression\n",
    "import numpy as np\n",
    "import matplotlib.pyplot as plt\n",
    "from sklearn.feature_selection import f_regression\n",
    "from scipy.stats import normaltest, jarque_bera\n",
    "import statsmodels.api as sm\n",
    "from scipy import stats\n"
   ]
  },
  {
   "cell_type": "code",
   "execution_count": 127,
   "metadata": {},
   "outputs": [
    {
     "data": {
      "text/html": [
       "<div>\n",
       "<style scoped>\n",
       "    .dataframe tbody tr th:only-of-type {\n",
       "        vertical-align: middle;\n",
       "    }\n",
       "\n",
       "    .dataframe tbody tr th {\n",
       "        vertical-align: top;\n",
       "    }\n",
       "\n",
       "    .dataframe thead th {\n",
       "        text-align: right;\n",
       "    }\n",
       "</style>\n",
       "<table border=\"1\" class=\"dataframe\">\n",
       "  <thead>\n",
       "    <tr style=\"text-align: right;\">\n",
       "      <th></th>\n",
       "      <th>ПОЛ (1-жен, 0- муж)</th>\n",
       "      <th>Зарплата (долл. в час)</th>\n",
       "    </tr>\n",
       "  </thead>\n",
       "  <tbody>\n",
       "    <tr>\n",
       "      <th>0</th>\n",
       "      <td>0</td>\n",
       "      <td>53.410000</td>\n",
       "    </tr>\n",
       "    <tr>\n",
       "      <th>1</th>\n",
       "      <td>0</td>\n",
       "      <td>8.000000</td>\n",
       "    </tr>\n",
       "    <tr>\n",
       "      <th>2</th>\n",
       "      <td>0</td>\n",
       "      <td>24.000000</td>\n",
       "    </tr>\n",
       "    <tr>\n",
       "      <th>3</th>\n",
       "      <td>0</td>\n",
       "      <td>29.500000</td>\n",
       "    </tr>\n",
       "    <tr>\n",
       "      <th>4</th>\n",
       "      <td>0</td>\n",
       "      <td>32.049999</td>\n",
       "    </tr>\n",
       "  </tbody>\n",
       "</table>\n",
       "</div>"
      ],
      "text/plain": [
       "   ПОЛ (1-жен, 0- муж)  Зарплата (долл. в час)\n",
       "0                    0               53.410000\n",
       "1                    0                8.000000\n",
       "2                    0               24.000000\n",
       "3                    0               29.500000\n",
       "4                    0               32.049999"
      ]
     },
     "execution_count": 127,
     "metadata": {},
     "output_type": "execute_result"
    }
   ],
   "source": [
    "# зависимость зарплаты от пола\n",
    "file_path = 'LAB_4_DATA_2023.xlsx'\n",
    "df = pd.read_excel(file_path)\n",
    "\n",
    "selected_columns = df.iloc[:, [2, 3]]\n",
    "selected_columns.head()"
   ]
  },
  {
   "cell_type": "code",
   "execution_count": 128,
   "metadata": {},
   "outputs": [
    {
     "data": {
      "text/plain": [
       "(23.114481440297777, -6.9565184345970374)"
      ]
     },
     "execution_count": 128,
     "metadata": {},
     "output_type": "execute_result"
    }
   ],
   "source": [
    "# строим линейную регрессию и оцениваем ее параметры\n",
    "\n",
    "X = selected_columns['ПОЛ (1-жен, 0- муж)'].values.reshape(-1, 1)\n",
    "Y = selected_columns['Зарплата (долл. в час)'].values\n",
    "\n",
    "model = LinearRegression()\n",
    "model.fit(X, Y)\n",
    "\n",
    "intercept = model.intercept_\n",
    "slope = model.coef_[0]\n",
    "\n",
    "(intercept, slope)"
   ]
  },
  {
   "cell_type": "markdown",
   "metadata": {},
   "source": [
    "Зарплата = 23 - 7 * ПОЛ\n",
    "\n",
    "=> у женщин (пол = 1) зарплата меньше"
   ]
  },
  {
   "cell_type": "code",
   "execution_count": 129,
   "metadata": {},
   "outputs": [
    {
     "data": {
      "image/png": "[encoded data removed]",
      "text/plain": [
       "<Figure size 300x700 with 1 Axes>"
      ]
     },
     "metadata": {},
     "output_type": "display_data"
    }
   ],
   "source": [
    "# визуализация\n",
    "plt.figure(figsize=(3, 7))\n",
    "axes = plt.axes()\n",
    "plt.title('Зависимость зп от пола')\n",
    "x_lable='ПОЛ (1-жен, 0- муж)'\n",
    "y_lable='Зарплата (долл. в час)'\n",
    "axes.set_xlabel(x_lable)             \n",
    "axes.set_ylabel(y_lable)  \n",
    "for c, rows in df.groupby('ПОЛ (1-жен, 0- муж)'):\n",
    "    plt.scatter(rows[x_lable], rows[y_lable])\n",
    "plt.grid()\n",
    "# Устанавливаем только значения 0 и 1 на оси абсцисс\n",
    "plt.xticks([0, 1])\n",
    "plt.show()"
   ]
  },
  {
   "cell_type": "code",
   "execution_count": 130,
   "metadata": {},
   "outputs": [
    {
     "name": "stdout",
     "output_type": "stream",
     "text": [
      "Средние значения:\n",
      "                                 0          1\n",
      "ПОЛ (1-жен, 0- муж)      0.000000   1.000000\n",
      "Зарплата (долл. в час)  23.114481  16.157963\n",
      "\n",
      "Средние зарплаты женского пола ниже на +- 7 единиц\n"
     ]
    }
   ],
   "source": [
    "# оценки параметров\n",
    "#  вычисляем средние значения ЗП для каждого пола\n",
    "class_feature_means = pd.DataFrame()\n",
    "for c, rows in selected_columns.groupby('ПОЛ (1-жен, 0- муж)'):\n",
    "    class_feature_means[c] = rows.mean()\n",
    "print(\"Средние значения:\\n\",class_feature_means)\n",
    "print(\"\\nСредние зарплаты женского пола ниже на +- 7 единиц\")"
   ]
  },
  {
   "cell_type": "code",
   "execution_count": 131,
   "metadata": {},
   "outputs": [
    {
     "name": "stdout",
     "output_type": "stream",
     "text": [
      "F-статистика: 33.322802073786846\n",
      "p-value: 1.3200009108490948e-08\n",
      "Модель обладает статистически значимой объясняющей способностью.\n",
      "\n",
      "Коэффициент детерминации: 0.058325699504434114\n",
      "-> данная модель слабо объясняет изменения в зависимой переменной т.к. коэффициент детерминации мал\n"
     ]
    }
   ],
   "source": [
    "# F-тест для проверки модели\n",
    "f_statistic, p_value = f_regression(X, Y)\n",
    "\n",
    "# Выводим результаты\n",
    "print(\"F-статистика:\", f_statistic[0])\n",
    "print(\"p-value:\", p_value[0])\n",
    "\n",
    "# Проверяем значимость p-значения (alfa = 0.02)\n",
    "if p_value[0] < 0.02:\n",
    "    print(\"Модель обладает статистически значимой объясняющей способностью.\")\n",
    "else:\n",
    "    print(\"Модель не обладает статистически значимой объясняющей способностью.\")\n",
    "\n",
    "# Вывод коэффициента детерминации\n",
    "print('\\nКоэффициент детерминации:', model.score(X, Y))\n",
    "\n",
    "# Коэфф. детерминации определяет, насколько модель линейной регрессии соответствует \n",
    "# данным, на которых она построена. 1 - модель идеальна\n",
    "print(\"-> данная модель слабо объясняет изменения в зависимой переменной т.к. коэффициент детерминации мал\")\n"
   ]
  },
  {
   "cell_type": "code",
   "execution_count": 132,
   "metadata": {},
   "outputs": [
    {
     "name": "stdout",
     "output_type": "stream",
     "text": [
      "SUM_errors =  6.146194664324867e-13\n",
      "SignificanceResult(statistic=5688.747825580847, pvalue=0.0)\n",
      "NormaltestResult(statistic=390.9015117083931, pvalue=1.3086251081447052e-85)\n",
      "\n",
      "ESS =  105477.15598891099\n",
      "RSS =  6533.075078669907\n",
      "TSS =  112010.23106758097\n",
      "\n",
      "Высчитанный по формулам R2 =  0.058325699504434336\n",
      "\n",
      "Очень маленькие p-значения -> остатки модели не распределены нормально. \n",
      "Mодель может быть недостаточно адекватной для описания данных.\n"
     ]
    }
   ],
   "source": [
    "# Проверка остатков (ошибок) регрессии на нормальность\n",
    "\n",
    "y_predict = model.predict(X)\n",
    "errors=Y-y_predict \n",
    "print(\"SUM_errors = \",sum(errors))\n",
    "rez=jarque_bera(errors)\n",
    "print(rez)\n",
    "rez2 = normaltest(errors)\n",
    "print(rez2)\n",
    "\n",
    "ESS=sum(errors**2) # ESS = Errors Sum of Squares - сумму квадратов остатков (ошибок) регрессии\n",
    "print('\\nESS = ',ESS )\n",
    "RSS=sum((y_predict-np.mean(y_predict)) **2) # RSS = Regression Sum of Squares -  регрессионную сумму квадратов\n",
    "print('RSS = ',RSS )\n",
    "TSS=sum((Y-np.mean(Y)) **2) # TSS = Total Sum of Squares -  полную сумму квадратов\n",
    "print('TSS = ',TSS )\n",
    "R2=1-ESS/TSS  \n",
    "print('\\nВысчитанный по формулам R2 = ',R2)\n",
    "\n",
    "\n",
    "print(\"\\nОчень маленькие p-значения -> остатки модели не распределены нормально. \\nMодель может быть недостаточно адекватной для описания данных.\")"
   ]
  },
  {
   "cell_type": "markdown",
   "metadata": {},
   "source": [
    "ЧАСТЬ 2"
   ]
  },
  {
   "cell_type": "code",
   "execution_count": 133,
   "metadata": {},
   "outputs": [
    {
     "data": {
      "text/html": [
       "<div>\n",
       "<style scoped>\n",
       "    .dataframe tbody tr th:only-of-type {\n",
       "        vertical-align: middle;\n",
       "    }\n",
       "\n",
       "    .dataframe tbody tr th {\n",
       "        vertical-align: top;\n",
       "    }\n",
       "\n",
       "    .dataframe thead th {\n",
       "        text-align: right;\n",
       "    }\n",
       "</style>\n",
       "<table border=\"1\" class=\"dataframe\">\n",
       "  <thead>\n",
       "    <tr style=\"text-align: right;\">\n",
       "      <th></th>\n",
       "      <th>СТАЖ РАБОТЫ (лет)</th>\n",
       "      <th>ВРЕМЯ, ЗАТРАЧЕННОЕ НА ОБРАЗОВАНИЕ (лет)</th>\n",
       "      <th>ПОЛ (1-жен, 0- муж)</th>\n",
       "      <th>Зарплата (долл. в час)</th>\n",
       "    </tr>\n",
       "  </thead>\n",
       "  <tbody>\n",
       "    <tr>\n",
       "      <th>0</th>\n",
       "      <td>22.384615</td>\n",
       "      <td>12</td>\n",
       "      <td>0</td>\n",
       "      <td>53.410000</td>\n",
       "    </tr>\n",
       "    <tr>\n",
       "      <th>1</th>\n",
       "      <td>8.903846</td>\n",
       "      <td>12</td>\n",
       "      <td>0</td>\n",
       "      <td>8.000000</td>\n",
       "    </tr>\n",
       "    <tr>\n",
       "      <th>2</th>\n",
       "      <td>13.250000</td>\n",
       "      <td>15</td>\n",
       "      <td>0</td>\n",
       "      <td>24.000000</td>\n",
       "    </tr>\n",
       "    <tr>\n",
       "      <th>3</th>\n",
       "      <td>18.250000</td>\n",
       "      <td>13</td>\n",
       "      <td>0</td>\n",
       "      <td>29.500000</td>\n",
       "    </tr>\n",
       "    <tr>\n",
       "      <th>4</th>\n",
       "      <td>13.769231</td>\n",
       "      <td>18</td>\n",
       "      <td>0</td>\n",
       "      <td>32.049999</td>\n",
       "    </tr>\n",
       "  </tbody>\n",
       "</table>\n",
       "</div>"
      ],
      "text/plain": [
       "   СТАЖ РАБОТЫ (лет)  ВРЕМЯ, ЗАТРАЧЕННОЕ НА ОБРАЗОВАНИЕ (лет)  \\\n",
       "0          22.384615                                       12   \n",
       "1           8.903846                                       12   \n",
       "2          13.250000                                       15   \n",
       "3          18.250000                                       13   \n",
       "4          13.769231                                       18   \n",
       "\n",
       "   ПОЛ (1-жен, 0- муж)  Зарплата (долл. в час)  \n",
       "0                    0               53.410000  \n",
       "1                    0                8.000000  \n",
       "2                    0               24.000000  \n",
       "3                    0               29.500000  \n",
       "4                    0               32.049999  "
      ]
     },
     "execution_count": 133,
     "metadata": {},
     "output_type": "execute_result"
    }
   ],
   "source": [
    "selected_columns_2 = df.iloc[:, 0:4]\n",
    "selected_columns_2.head()"
   ]
  },
  {
   "cell_type": "code",
   "execution_count": 134,
   "metadata": {},
   "outputs": [
    {
     "data": {
      "text/plain": [
       "(-19.691947095344787, array([ 0.4056772 ,  2.59113732, -5.90905023]))"
      ]
     },
     "execution_count": 134,
     "metadata": {},
     "output_type": "execute_result"
    }
   ],
   "source": [
    "X_2 = selected_columns_2.iloc[:, :-1]  \n",
    "Y_2 = selected_columns_2.iloc[:, -1]  \n",
    "\n",
    "model_2 = LinearRegression()\n",
    "model_2.fit(X_2, Y_2)\n",
    "\n",
    "intercept_2 = model_2.intercept_\n",
    "coefficients_2 = model_2.coef_\n",
    "\n",
    "(intercept_2, coefficients_2)\n"
   ]
  },
  {
   "cell_type": "markdown",
   "metadata": {},
   "source": [
    "Зарплата= −19.69 + 0.41 * Стаж работы + 2.59 * Время на обучение − 5.91 * Пол"
   ]
  },
  {
   "cell_type": "code",
   "execution_count": 135,
   "metadata": {},
   "outputs": [
    {
     "name": "stdout",
     "output_type": "stream",
     "text": [
      "SUM_errors =  -2.042810365310288e-13\n",
      "SignificanceResult(statistic=7226.888780316278, pvalue=0.0)\n",
      "NormaltestResult(statistic=404.7522546494346, pvalue=1.2857739834288093e-88)\n",
      "\n",
      "Очень маленькие p-значения -> остатки регрессии не распределены нормально\n",
      "ни по одному признаку.\n",
      "\n",
      "ESS =  85032.74975739743\n",
      "RSS =  26977.481310183397\n",
      "TSS =  112010.23106758097\n",
      "\n",
      "Высчитанный по формулам R2 =  0.2408483676272999\n"
     ]
    }
   ],
   "source": [
    "y_predict_2 = model_2.predict(X_2)\n",
    "errors_2=Y_2-y_predict_2 \n",
    "print(\"SUM_errors = \",sum(errors_2))\n",
    "rez_2=jarque_bera(errors_2)\n",
    "print(rez_2)\n",
    "rez2_2 = normaltest(errors_2)\n",
    "print(rez2_2)\n",
    "\n",
    "print(\"\\nОчень маленькие p-значения -> остатки регрессии не распределены нормально\\nни по одному признаку.\")\n",
    "\n",
    "ESS_2=sum(errors_2**2)\n",
    "print('\\nESS = ',ESS_2 )\n",
    "RSS_2=sum((y_predict_2-np.mean(y_predict_2)) **2)\n",
    "print('RSS = ',RSS_2 )\n",
    "TSS_2=sum((Y_2-np.mean(Y)) **2)\n",
    "print('TSS = ',TSS_2 )\n",
    "R2_2=1-ESS_2/TSS_2\n",
    "print('\\nВысчитанный по формулам R2 = ',R2_2)"
   ]
  },
  {
   "cell_type": "markdown",
   "metadata": {},
   "source": [
    "С каждым годом стажа работы -> зарплата увеличивается на 0.41 доллара в час, с каждым годом обучения -> на 2.59 доллара в час, а женщины в среднем -> на 5.91 доллара в час меньше."
   ]
  },
  {
   "cell_type": "code",
   "execution_count": 136,
   "metadata": {},
   "outputs": [
    {
     "name": "stdout",
     "output_type": "stream",
     "text": [
      "Средние значения:\n",
      "                                                  0          1\n",
      "СТАЖ РАБОТЫ (лет)                        17.872009  15.928704\n",
      "ВРЕМЯ, ЗАТРАЧЕННОЕ НА ОБРАЗОВАНИЕ (лет)  13.722222  13.622222\n",
      "ПОЛ (1-жен, 0- муж)                       0.000000   1.000000\n",
      "Зарплата (долл. в час)                   23.114481  16.157963\n",
      "\n",
      "если стаж работы увеличится на 2 года -> ЗП на 0.82\n",
      "\n",
      "если доп. год обучения -> ЗП вырастет на 2.59\n"
     ]
    }
   ],
   "source": [
    "class_feature_means = pd.DataFrame()\n",
    "for c, rows in selected_columns_2.groupby('ПОЛ (1-жен, 0- муж)'):\n",
    "    class_feature_means[c] = rows.mean()\n",
    "print(\"Средние значения:\\n\",class_feature_means)\n",
    "\n",
    "print(\"\\nесли стаж работы увеличится на 2 года -> ЗП на 0.82\")\n",
    "print(\"\\nесли доп. год обучения -> ЗП вырастет на 2.59\")"
   ]
  },
  {
   "cell_type": "code",
   "execution_count": 137,
   "metadata": {},
   "outputs": [
    {
     "name": "stdout",
     "output_type": "stream",
     "text": [
      "Значения статистики [  2.98343217 112.14961239  33.32280207] \n",
      "Значения p-value  [8.46946525e-02 6.22344550e-24 1.32000091e-08]\n",
      "\n",
      "Вывод - только у СТАЖА РАБОТЫ p-value > 0.02 - он не является значимым.\n",
      "В целом же модель обладает имеет высокую объясняющую способность.\n",
      "\n",
      "Коэффициент детерминации: 0.24084836762729878\n",
      "-> данная модель гораздо лучше объясняет изменения в зависимой переменной\n"
     ]
    }
   ],
   "source": [
    "# проверка модели используя F-test\n",
    "\n",
    "f_statistic_multi, p_value_multi = f_regression(X_2, Y_2)\n",
    "print(\"Значения статистики\",f_statistic_multi, \"\\nЗначения p-value \",p_value_multi)\n",
    "print(\"\\nВывод - только у СТАЖА РАБОТЫ p-value > 0.02 - он не является значимым.\\nВ целом же модель обладает имеет высокую объясняющую способность.\")\n",
    "\n",
    "# Вывод коэффициента детерминации\n",
    "print('\\nКоэффициент детерминации:', model_2.score(X_2, Y_2))\n",
    "\n",
    "# Коэфф. детерминации определяет, насколько модель линейной регрессии соответствует \n",
    "# данным, на которых она построена. 1 - модель идеальна\n",
    "print(\"-> данная модель гораздо лучше объясняет изменения в зависимой переменной\")"
   ]
  },
  {
   "cell_type": "code",
   "execution_count": 138,
   "metadata": {},
   "outputs": [
    {
     "name": "stdout",
     "output_type": "stream",
     "text": [
      "                              OLS Regression Results                              \n",
      "==================================================================================\n",
      "Dep. Variable:     Зарплата (долл. в час)   R-squared:                       0.241\n",
      "Model:                                OLS   Adj. R-squared:                  0.237\n",
      "Method:                     Least Squares   F-statistic:                     56.68\n",
      "Date:                    Mon, 18 Dec 2023   Prob (F-statistic):           7.74e-32\n",
      "Time:                            10:36:29   Log-Likelihood:                -2132.2\n",
      "No. Observations:                     540   AIC:                             4272.\n",
      "Df Residuals:                         536   BIC:                             4290.\n",
      "Df Model:                               3                                         \n",
      "Covariance Type:                nonrobust                                         \n",
      "===========================================================================================================\n",
      "                                              coef    std err          t      P>|t|      [0.025      0.975]\n",
      "-----------------------------------------------------------------------------------------------------------\n",
      "const                                     -19.6919      4.361     -4.516      0.000     -28.258     -11.126\n",
      "СТАЖ РАБОТЫ (лет)                           0.4057      0.129      3.149      0.002       0.153       0.659\n",
      "ВРЕМЯ, ЗАТРАЧЕННОЕ НА ОБРАЗОВАНИЕ (лет)     2.5911      0.229     11.337      0.000       2.142       3.040\n",
      "ПОЛ (1-жен, 0- муж)                        -5.9091      1.114     -5.304      0.000      -8.097      -3.721\n",
      "==============================================================================\n",
      "Omnibus:                      404.752   Durbin-Watson:                   1.896\n",
      "Prob(Omnibus):                  0.000   Jarque-Bera (JB):             7226.889\n",
      "Skew:                           3.140   Prob(JB):                         0.00\n",
      "Kurtosis:                      19.785   Cond. No.                         178.\n",
      "==============================================================================\n",
      "\n",
      "Notes:\n",
      "[1] Standard Errors assume that the covariance matrix of the errors is correctly specified.\n",
      "\n",
      "\n",
      "Вывод - коэффициент для переменной ПОЛ равен -5.9091, \n",
      "а p-значение (P>|t|) равно 0.000 < 0.02 -> \n",
      "коэффициент статистически значим ->  \n",
      "различия в зарплатах между мужчинами и женщинами статистически значимы \n",
      "при прочих равных условиях \n",
      "\n",
      "Полная дискриминация!!\n"
     ]
    }
   ],
   "source": [
    "# найдем подробную информацию о регрессионной модели, включая коэффициенты, \n",
    "# стандартные ошибки, статистики t и p\n",
    "X_2_sm = sm.add_constant(X_2)\n",
    "model_sm = sm.OLS(Y_2, X_2_sm).fit()\n",
    "\n",
    "# Выводим результаты регрессии\n",
    "print(model_sm.summary())\n",
    "print(\"\\n\\nВывод - коэффициент для переменной ПОЛ равен -5.9091, \\nа p-значение (P>|t|) равно 0.000 < 0.02 -> \\nкоэффициент статистически значим ->  \\nразличия в зарплатах между мужчинами и женщинами статистически значимы \\nпри прочих равных условиях \")\n",
    "print(\"\\nПолная дискриминация!!\")"
   ]
  },
  {
   "cell_type": "markdown",
   "metadata": {},
   "source": [
    "ЧАСТЬ 2"
   ]
  },
  {
   "cell_type": "code",
   "execution_count": 139,
   "metadata": {},
   "outputs": [
    {
     "name": "stdout",
     "output_type": "stream",
     "text": [
      "Критическое значение =  -2.058759043823832 \n",
      "Вычисленная t-статистика 3.315117306572352\n",
      "Коэффициент статистически значим\n",
      "\n",
      "Вывод:\n",
      "Это означает, что коэффициент при СТАЖ РАБОТЫ (лет) статистически значим \n",
      "и его значение возникло не случайно\n"
     ]
    }
   ],
   "source": [
    "# Проверьте, отражает ли полученное при оценке регрессии значение \n",
    "# коэффициента при факторе СТАЖ РАБОТЫ истинную зависимость, или же оно появилось случайно? \n",
    "\n",
    "# Заново строим линейную регрессию и ищем ее коэффициенты\n",
    "columns_all = df.iloc[:, 0:4]\n",
    "X_2_all = columns_all[['СТАЖ РАБОТЫ (лет)', 'ВРЕМЯ, ЗАТРАЧЕННОЕ НА ОБРАЗОВАНИЕ (лет)', 'ПОЛ (1-жен, 0- муж)']].values \n",
    "Y_2_all = np.array(columns_all['Зарплата (долл. в час)'])  \n",
    "Y_2_all = Y_2_all.reshape((-1, 1))\n",
    "model_2_all = LinearRegression()\n",
    "model_2_all.fit(X_2_all, Y_2_all)\n",
    "b_0_hat = model_2_all.intercept_[0]\n",
    "b_1_hat = model_2_all.coef_[0]\n",
    "\n",
    "# Извлекаем значения признаков\n",
    "x1 = np.array(columns_all['СТАЖ РАБОТЫ (лет)'])\n",
    "x2 = np.array(columns_all['ВРЕМЯ, ЗАТРАЧЕННОЕ НА ОБРАЗОВАНИЕ (лет)'])\n",
    "x3 = np.array(columns_all['ПОЛ (1-жен, 0- муж)'])\n",
    "\n",
    "errors = []\n",
    "# Вычисляем остатки вручную\n",
    "for i in range(len(Y_2_all)):\n",
    "    errors.append(Y_2_all[i][0] - (b_0_hat + b_1_hat[0] * x1[i] + b_1_hat[1] * x2[i] + b_1_hat[2] * x3[i]))\n",
    "\n",
    "# Вычисление суммы квадратов ошибок\n",
    "tmp = 0\n",
    "for error in errors:\n",
    "    tmp += error ** 2\n",
    "\n",
    "# Вычисление стандартного отклонения одного из предикторов\n",
    "sigma_x1 = np.std(X_2_all[:, 0])\n",
    "\n",
    "# Вычисление стандартной ошибки коэффициента наклона\n",
    "tmp /= (len(errors) - len(b_1_hat) - 1)\n",
    "se = np.sqrt(tmp)\n",
    "b1_std_error = se / (np.sqrt(len(errors)) * sigma_x1)\n",
    "\n",
    "# Вычисление t-статистики\n",
    "t1 = b_1_hat[0] / b1_std_error\n",
    "\n",
    "# Вычисление критического значения t-статистики c alfa=0.02\n",
    "t_critical = stats.t.ppf(0.02, df=len(errors) - len(b_1_hat) - 1)\n",
    "t1 = abs(t1)\n",
    "print(\"Критическое значение = \", t_critical, \"\\nВычисленная t-статистика\", abs(t1))\n",
    "\n",
    "if abs(t1) < t_critical:\n",
    "    print(f'Коэффициент статистически незначим')\n",
    "else:\n",
    "    print(f'Коэффициент статистически значим')\n",
    "\n",
    "print(\"\\nВывод:\\nЭто означает, что коэффициент при СТАЖ РАБОТЫ (лет) статистически значим \\nи его значение возникло не случайно\")"
   ]
  },
  {
   "cell_type": "code",
   "execution_count": 140,
   "metadata": {},
   "outputs": [
    {
     "name": "stdout",
     "output_type": "stream",
     "text": [
      "Критическое значение =  -2.3333250547019966 \n",
      "Вычисленная t-статистика 11.64642410680115\n",
      "Коэффициент статистически значим\n",
      "\n",
      "Вывод:\n",
      "Это означает, что коэффициент при ВРЕМЯ, ЗАТРАЧЕННОЕ НА ОБРАЗОВАНИЕ статистически значим \n",
      "и его значение возникло не случайно\n"
     ]
    }
   ],
   "source": [
    "# Проверьте, отражает ли полученное при оценке регрессии значение коэффициента  при факторе  ВРЕМЯ, ЗАТРАЧЕННОЕ НА ОБРАЗОВАНИЕ,\n",
    "#  истинную зависимость, или же оно появилось случайно? \n",
    "\n",
    "# Вычисление стандартной ошибки коэффициента\n",
    "sigma_x2 = np.std(X_2_all[:, 1])\n",
    "b2_std_error = se / (np.sqrt(len(errors)) * sigma_x2)\n",
    "t2 = b_1_hat[1] / b2_std_error\n",
    "t_critical = stats.t.ppf(0.02 / 2, df=len(errors) - len(b_1_hat) - 1)\n",
    "\n",
    "print(\"Критическое значение = \", t_critical, \"\\nВычисленная t-статистика\", abs(t2))\n",
    "# Проверка статистической значимости коэффициента\n",
    "if abs(t2) < t_critical:\n",
    "    print('Коэффициент статистически незначим')\n",
    "else:\n",
    "    print('Коэффициент статистически значим')\n",
    "\n",
    "print(\"\\nВывод:\\nЭто означает, что коэффициент при ВРЕМЯ, ЗАТРАЧЕННОЕ НА ОБРАЗОВАНИЕ статистически значим \\nи его значение возникло не случайно\")"
   ]
  },
  {
   "cell_type": "code",
   "execution_count": 141,
   "metadata": {},
   "outputs": [
    {
     "name": "stdout",
     "output_type": "stream",
     "text": [
      "ДОВЕРИТЕЛЬНЫЕ ИНТЕРВАЛЫ:\n",
      "\n",
      "Доверительный интервал для b1: [0.12014378192966751, 0.6912106160976843]\n",
      "Доверительный интервал для b2: [2.072010973641162, 3.1102636737076716]\n",
      "Доверительный интервал для b3: [-8.438459335948606, -3.379641132113098]\n",
      "Доверительный интервал для b0: [-33.67850909928059, -5.705385091408983]\n"
     ]
    }
   ],
   "source": [
    "# С надежностью  гамма постройте доверительные интервалы для \n",
    "# теоретических  коэффициентов регрессии \n",
    "print(\"ДОВЕРИТЕЛЬНЫЕ ИНТЕРВАЛЫ:\\n\")\n",
    "gamma=0.98\n",
    "# Вычисление t-критического значения\n",
    "t_g = stats.t.ppf((1 + gamma) / 2, df=len(errors) - len(b_1_hat) - 1)\n",
    "\n",
    "b0_std_error = 0\n",
    "std_errors = []\n",
    "\n",
    "# Цикл для каждого коэффициента\n",
    "for i in range(3):\n",
    "    avg_x2 = np.mean(X_2_all[:, i] ** 2)\n",
    "    sigma_x = np.std(X_2_all[:, i])\n",
    "\n",
    "    # Вычисление дельты\n",
    "    delta = t_g * se / (np.sqrt(len(errors)) * sigma_x)\n",
    "    print(f'Доверительный интервал для b{i + 1}: [{b_1_hat[i] - delta}, {b_1_hat[i] + delta}]')\n",
    "\n",
    "    # Добавление части стандартной ошибки коэффициента b0\n",
    "    b0_std_error += se * np.sqrt(avg_x2) / (np.sqrt(len(errors)) * sigma_x)\n",
    "    # стандартная ошибка коэффициента \n",
    "    std_errors.append(se / (np.sqrt(len(errors)) * sigma_x))\n",
    "\n",
    "# Вычисление дельты для b0\n",
    "delta_b0 = t_g * b0_std_error\n",
    "\n",
    "print(f'Доверительный интервал для b0: [{b_0_hat - delta_b0}, {b_0_hat + delta_b0}]')"
   ]
  },
  {
   "cell_type": "code",
   "execution_count": 142,
   "metadata": {},
   "outputs": [
    {
     "name": "stdout",
     "output_type": "stream",
     "text": [
      "Доверительный интервал для y: [-9.497755733900755, 20.98026298217811]\n"
     ]
    }
   ],
   "source": [
    "#  С надежностью гамма найдите интервальную оценку прогнозной ЗАРПЛАТЫ работника , с  \n",
    "# указанной в варианте гендерной принадлежностью, \n",
    "# если  СТАЖ РАБОТЫ составляет а лет, а ВРЕМЯ, ЗАТРАЧЕННОЕ НА ОБРАЗОВАНИЕ, равно b годам.\n",
    "\n",
    "a=7 # стаж работы\n",
    "b=11 # время образования\n",
    "gender=1 # мужчины\n",
    "\n",
    "# Вычисление стандартной ошибки \n",
    "y_std_error = np.sqrt(b0_std_error**2 + std_errors[0]**2 * a**2 + std_errors[1]**2 * b**2)\n",
    "\n",
    "delta = t_g * y_std_error\n",
    "y_pred = b_0_hat + b_1_hat[0] * a + b_1_hat[1] * b + b_1_hat[2] * gender\n",
    "\n",
    "# Вывод доверительного интервала для y\n",
    "print(f'Доверительный интервал для y: [{y_pred - delta}, {y_pred + delta}]')"
   ]
  },
  {
   "cell_type": "markdown",
   "metadata": {},
   "source": [
    "ЧАСТЬ 3"
   ]
  },
  {
   "cell_type": "code",
   "execution_count": 143,
   "metadata": {},
   "outputs": [
    {
     "name": "stderr",
     "output_type": "stream",
     "text": [
      "c:\\Users\\darya\\AppData\\Local\\Programs\\Python\\Python311\\Lib\\site-packages\\sklearn\\cluster\\_kmeans.py:1416: FutureWarning: The default value of `n_init` will change from 10 to 'auto' in 1.4. Set the value of `n_init` explicitly to suppress the warning\n",
      "  super()._check_params_vs_input(X, default_n_init=10)\n"
     ]
    },
    {
     "data": {
      "image/png": "[encoded data removed]",
      "text/plain": [
       "<Figure size 640x480 with 1 Axes>"
      ]
     },
     "metadata": {},
     "output_type": "display_data"
    }
   ],
   "source": [
    "from sklearn.datasets import load_iris\n",
    "from sklearn.preprocessing import StandardScaler\n",
    "from sklearn.cluster import KMeans\n",
    "\n",
    "# Загрузка данных и создание DataFrame\n",
    "iris = load_iris()\n",
    "data = pd.DataFrame(data=iris.data, columns=iris.feature_names)\n",
    "X = data[[\"sepal width (cm)\", \"petal width (cm)\"]]\n",
    "\n",
    "# Масштабирование признаков\n",
    "X_scaled = StandardScaler().fit_transform(X)\n",
    "\n",
    "# Кластеризация методом к-средних\n",
    "kmeans = KMeans(n_clusters=3, random_state=42)\n",
    "data[\"cluster\"] = kmeans.fit_predict(X_scaled)\n",
    "\n",
    "# Создаем список цветов для каждого кластера\n",
    "custom_colors = ['#ff7f0e', 'green', '#7f7f7f']\n",
    "\n",
    "# Используем список цветов для кластеров\n",
    "plt.scatter(\n",
    "    X_scaled[:, 0], X_scaled[:, 1],\n",
    "    c=[custom_colors[i] for i in data[\"cluster\"]],\n",
    "    edgecolors='k',\n",
    "    s=50\n",
    ") \n",
    "plt.title(\"Кластеризация методом к-средних\")\n",
    "plt.xlabel(\"Sepal Width (cm)\")\n",
    "plt.ylabel(\"Petal Width (cm)\")\n",
    "plt.show()"
   ]
  }
 ],
 "metadata": {
  "kernelspec": {
   "display_name": "Python 3",
   "language": "python",
   "name": "python3"
  },
  "language_info": {
   "codemirror_mode": {
    "name": "ipython",
    "version": 3
   },
   "file_extension": ".py",
   "mimetype": "text/x-python",
   "name": "python",
   "nbconvert_exporter": "python",
   "pygments_lexer": "ipython3",
   "version": "3.11.5"
  }
 },
 "nbformat": 4,
 "nbformat_minor": 2
}
